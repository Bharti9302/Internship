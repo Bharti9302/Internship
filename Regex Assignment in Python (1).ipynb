{
 "cells": [
  {
   "cell_type": "code",
   "execution_count": 124,
   "id": "949e1e63",
   "metadata": {},
   "outputs": [],
   "source": [
    "import pandas as pd\n",
    "import numpy as np\n",
    "import matplotlib.pyplot as plt\n",
    "import seaborn as sns\n",
    "import re\n",
    "import regex as re"
   ]
  },
  {
   "cell_type": "code",
   "execution_count": null,
   "id": "14a39bdd",
   "metadata": {},
   "outputs": [],
   "source": []
  },
  {
   "cell_type": "markdown",
   "id": "b53b9a1d",
   "metadata": {},
   "source": [
    "Q1)\n",
    "Write a Python program to replace all occurrences of a space, comma, or dot with a colon.\n",
    "Sample Text- 'Python Exercises, PHP exercises.'\n",
    "Expected Output: Python:Exercises::PHP:exercises:\n"
   ]
  },
  {
   "cell_type": "code",
   "execution_count": 15,
   "id": "dbc44e8a",
   "metadata": {},
   "outputs": [
    {
     "name": "stdout",
     "output_type": "stream",
     "text": [
      "Expected Output: Python:Exercises::PHP:exercises:\n"
     ]
    }
   ],
   "source": [
    "SampleText='Python Exercises, PHP exercises.'\n",
    "pattern=\"[\\s+|,|.]\"\n",
    "Syntax=re.sub(pattern,\":\",SampleText)\n",
    "print('Expected Output:',Syntax)"
   ]
  },
  {
   "cell_type": "code",
   "execution_count": null,
   "id": "27497ea2",
   "metadata": {},
   "outputs": [],
   "source": []
  },
  {
   "cell_type": "markdown",
   "id": "c6aef96f",
   "metadata": {},
   "source": [
    "Q2)\n",
    "Create a dataframe using the dictionary below and remove everything (commas (,), !, XXXX, ;, etc.) from the columns except words.\n",
    "Dictionary- {'SUMMARY' : ['hello, world!', 'XXXXX test', '123four, five:; six...']}\n",
    "Expected output-\n",
    "0      hello world\n",
    "1             test\n",
    "2    four five six\n"
   ]
  },
  {
   "cell_type": "code",
   "execution_count": 123,
   "id": "3ac4eeca",
   "metadata": {},
   "outputs": [
    {
     "name": "stdout",
     "output_type": "stream",
     "text": [
      "           SUMMARY\n",
      "0     hello world \n",
      "1             test\n",
      "2   four five six \n"
     ]
    }
   ],
   "source": [
    "import pandas as pd\n",
    "import re\n",
    "\n",
    "Dictionary={'SUMMARY':['hello, world!','XXXXX test','123four,five:; six...']}\n",
    "\n",
    "df=pd.DataFrame(Dictionary)\n",
    "pattern=re.compile(r'[\\W\\d]+|XXXXX')\n",
    "df['SUMMARY'] = df['SUMMARY'].apply(lambda x: pattern.sub(' ', x))\n",
    "print(df)\n"
   ]
  },
  {
   "cell_type": "code",
   "execution_count": null,
   "id": "989fba44",
   "metadata": {},
   "outputs": [],
   "source": []
  },
  {
   "cell_type": "markdown",
   "id": "f113df8e",
   "metadata": {},
   "source": [
    "Q3) \n",
    "Create a function in python to find all words that are at least 4 characters long in a string. The use of the re.compile() method is mandatory"
   ]
  },
  {
   "cell_type": "code",
   "execution_count": 47,
   "id": "bcc442b5",
   "metadata": {},
   "outputs": [
    {
     "name": "stdout",
     "output_type": "stream",
     "text": [
      "['This', 'sample', 'text', 'with', 'some', 'long', 'short', 'words', 'like', 'hello', 'world', 'elephant']\n"
     ]
    }
   ],
   "source": [
    "text=\"This is a sample text with some long and short words like hello, world, elephant, cat, and dog.\"\n",
    "string_pattern=r'\\b\\w{4,}\\b'\n",
    "regex_pattern=re.compile(string_pattern)\n",
    "result=regex_pattern.findall(text)\n",
    "print(result)"
   ]
  },
  {
   "cell_type": "code",
   "execution_count": null,
   "id": "b204523a",
   "metadata": {},
   "outputs": [],
   "source": []
  },
  {
   "cell_type": "markdown",
   "id": "b79b076a",
   "metadata": {},
   "source": [
    "Q4)\n",
    "Create a function in python to find all three, four, and five character words in a string. The use of the re.compile() method is mandatory."
   ]
  },
  {
   "cell_type": "code",
   "execution_count": 50,
   "id": "5bb23006",
   "metadata": {},
   "outputs": [
    {
     "name": "stdout",
     "output_type": "stream",
     "text": [
      "['This', 'text', 'with', 'some', 'long', 'and', 'short', 'words', 'like', 'hello', 'world', 'cat', 'and', 'dog']\n"
     ]
    }
   ],
   "source": [
    "text=\"This is a sample text with some long and short words like hello, world, elephant, cat, and dog.\"\n",
    "string_pattern=r'\\b\\w{3,5}\\b'\n",
    "regex_pattern=re.compile(string_pattern)\n",
    "result=regex_pattern.findall(text)\n",
    "print(result)"
   ]
  },
  {
   "cell_type": "code",
   "execution_count": null,
   "id": "8ad77349",
   "metadata": {},
   "outputs": [],
   "source": []
  },
  {
   "cell_type": "markdown",
   "id": "cb234eba",
   "metadata": {},
   "source": []
  },
  {
   "cell_type": "markdown",
   "id": "4e4e6ea4",
   "metadata": {},
   "source": [
    "Q5)"
   ]
  },
  {
   "cell_type": "code",
   "execution_count": 112,
   "id": "2439bd01",
   "metadata": {},
   "outputs": [
    {
     "name": "stdout",
     "output_type": "stream",
     "text": [
      "example .com\n",
      "hr@fliprobo .com\n",
      "github .com\n",
      "Hello Data Science World\n",
      "DataScientist\n"
     ]
    }
   ],
   "source": [
    "strings=[\"example (.com)\",\"hr@fliprobo (.com)\",\"github (.com)\",\"Hello (Data Science World)\",\"Data(Scientist)\"]\n",
    "string_pattern=r'[\\(\\)]'\n",
    "regex_pattern=re.compile(string_pattern)\n",
    "result=[regex_pattern.sub('',string)for string in strings]\n",
    "for string in result:\n",
    "    print(string)  \n"
   ]
  },
  {
   "cell_type": "code",
   "execution_count": null,
   "id": "ce05ea05",
   "metadata": {},
   "outputs": [],
   "source": []
  },
  {
   "cell_type": "code",
   "execution_count": null,
   "id": "a6ff731e",
   "metadata": {},
   "outputs": [],
   "source": []
  },
  {
   "cell_type": "markdown",
   "id": "0f69a332",
   "metadata": {},
   "source": [
    "Q6)\n",
    "Write a python program to remove the parenthesis area from the text stored in the text file using Regular Expression.\n",
    "Sample Text: [\"example (.com)\", \"hr@fliprobo (.com)\", \"github (.com)\", \"Hello (Data Science World)\", \"Data (Scientist)\"]\n",
    "Expected Output: [\"example\", \"hr@fliprobo\", \"github\", \"Hello\", \"Data\"]\n",
    "Note- Store given sample text in the text file and then to remove the parenthesis area from the text.\n"
   ]
  },
  {
   "cell_type": "code",
   "execution_count": 105,
   "id": "0bcf98c7",
   "metadata": {},
   "outputs": [
    {
     "name": "stdout",
     "output_type": "stream",
     "text": [
      "Expected Output: [\"example \", \"hr@fliprobo \", \"github \", \"Hello \", \"Data \"]\n"
     ]
    }
   ],
   "source": [
    "#open text file in read mode\n",
    "filepath=\"sample_text.txt\"\n",
    "with open(filepath,'r') as file:\n",
    "    text=file.read()\n",
    "    \n",
    "#define regex pattern for dates\n",
    "pattern=r'\\([^)]*\\)'\n",
    "\n",
    "Output=re.sub(pattern,'',text)\n",
    "print(\"Expected Output:\",Output)"
   ]
  },
  {
   "cell_type": "code",
   "execution_count": null,
   "id": "e0742809",
   "metadata": {},
   "outputs": [],
   "source": []
  },
  {
   "cell_type": "code",
   "execution_count": null,
   "id": "1ab97014",
   "metadata": {},
   "outputs": [],
   "source": []
  },
  {
   "cell_type": "markdown",
   "id": "4040683a",
   "metadata": {},
   "source": [
    "Q7)\n",
    "Write a regular expression in Python to split a string into uppercase letters.\n",
    "Sample text: “ImportanceOfRegularExpressionsInPython”\n",
    "Expected Output: [‘Importance’, ‘Of’, ‘Regular’, ‘Expression’, ‘In’, ‘Python’]\n"
   ]
  },
  {
   "cell_type": "code",
   "execution_count": 103,
   "id": "bf455a54",
   "metadata": {},
   "outputs": [
    {
     "name": "stdout",
     "output_type": "stream",
     "text": [
      "Expected Output: ['Importance', 'Of', 'Regular', 'Expressions', 'In', 'Python']\n"
     ]
    }
   ],
   "source": [
    "# Sample text\n",
    "Sample_text=\"ImportanceOfRegularExpressionsInPython\"\n",
    "pattern=r'[A-Z][a-z]*'\n",
    "result=re.findall(pattern,Sample_text)\n",
    "print(\"Expected Output:\",result)"
   ]
  },
  {
   "cell_type": "code",
   "execution_count": null,
   "id": "244c8413",
   "metadata": {},
   "outputs": [],
   "source": []
  },
  {
   "cell_type": "code",
   "execution_count": null,
   "id": "756c7bfd",
   "metadata": {},
   "outputs": [],
   "source": []
  },
  {
   "cell_type": "markdown",
   "id": "1a886591",
   "metadata": {},
   "source": [
    "Q8)\n",
    "Create a function in python to insert spaces between words starting with numbers.\n",
    "Sample Text: “RegularExpression1IsAn2ImportantTopic3InPython\"\n",
    "Expected Output: RegularExpression 1IsAn 2ImportantTopic 3InPython\n"
   ]
  },
  {
   "cell_type": "code",
   "execution_count": 101,
   "id": "850b8208",
   "metadata": {},
   "outputs": [
    {
     "name": "stdout",
     "output_type": "stream",
     "text": [
      "Expected Output: RegularExpression 1IsAn 2ImportantTopic 3InPython\n"
     ]
    }
   ],
   "source": [
    "Sample_Text=\"RegularExpression1IsAn2ImportantTopic3InPython\"\n",
    "pattern=r'(?<!\\d)(?=\\d)'\n",
    "result=re.sub(pattern,' ',Sample_Text)\n",
    "print(\"Expected Output:\",result)"
   ]
  },
  {
   "cell_type": "code",
   "execution_count": null,
   "id": "dd6664af",
   "metadata": {},
   "outputs": [],
   "source": []
  },
  {
   "cell_type": "code",
   "execution_count": null,
   "id": "e07b144e",
   "metadata": {},
   "outputs": [],
   "source": []
  },
  {
   "cell_type": "markdown",
   "id": "6cb566d3",
   "metadata": {},
   "source": [
    "Q9)\n",
    "Create a function in python to insert spaces between words starting with capital letters or with numbers.\n",
    "Sample Text: “RegularExpression1IsAn2ImportantTopic3InPython\"\n",
    "Expected Output:  RegularExpression 1 IsAn 2 ImportantTopic 3 InPython"
   ]
  },
  {
   "cell_type": "code",
   "execution_count": 100,
   "id": "3a53301d",
   "metadata": {},
   "outputs": [
    {
     "name": "stdout",
     "output_type": "stream",
     "text": [
      "Expected Output: Regular Expression 1 Is An 2 Important Topic 3 In Python\n"
     ]
    }
   ],
   "source": [
    "Sample_Text=\"RegularExpression1IsAn2ImportantTopic3InPython\"\n",
    "pattern=r'(?<!^)(?=[A-Z\\d])'\n",
    "result=re.sub(pattern,' ',Sample_Text)\n",
    "print(\"Expected Output:\",result)"
   ]
  },
  {
   "cell_type": "code",
   "execution_count": null,
   "id": "b6e955ff",
   "metadata": {},
   "outputs": [],
   "source": []
  },
  {
   "cell_type": "code",
   "execution_count": null,
   "id": "85fa727e",
   "metadata": {},
   "outputs": [],
   "source": []
  },
  {
   "cell_type": "markdown",
   "id": "3b00aa65",
   "metadata": {},
   "source": [
    "Q10)\n",
    "- Use the github link below to read the data and create a dataframe. After creating the dataframe extract the first 6 letters of each country and store in the dataframe under a new column called first_five_letters.\n",
    "Github Link-  https://raw.githubusercontent.com/dsrscientist/DSData/master/happiness_score_dataset.csv"
   ]
  },
  {
   "cell_type": "code",
   "execution_count": 97,
   "id": "3906f1a2",
   "metadata": {},
   "outputs": [
    {
     "name": "stdout",
     "output_type": "stream",
     "text": [
      "       Country          Region  Happiness Rank  Happiness Score  \\\n",
      "0  Switzerland  Western Europe               1            7.587   \n",
      "1      Iceland  Western Europe               2            7.561   \n",
      "2      Denmark  Western Europe               3            7.527   \n",
      "3       Norway  Western Europe               4            7.522   \n",
      "4       Canada   North America               5            7.427   \n",
      "\n",
      "   Standard Error  Economy (GDP per Capita)   Family  \\\n",
      "0         0.03411                   1.39651  1.34951   \n",
      "1         0.04884                   1.30232  1.40223   \n",
      "2         0.03328                   1.32548  1.36058   \n",
      "3         0.03880                   1.45900  1.33095   \n",
      "4         0.03553                   1.32629  1.32261   \n",
      "\n",
      "   Health (Life Expectancy)  Freedom  Trust (Government Corruption)  \\\n",
      "0                   0.94143  0.66557                        0.41978   \n",
      "1                   0.94784  0.62877                        0.14145   \n",
      "2                   0.87464  0.64938                        0.48357   \n",
      "3                   0.88521  0.66973                        0.36503   \n",
      "4                   0.90563  0.63297                        0.32957   \n",
      "\n",
      "   Generosity  Dystopia Residual first_five_letter  \n",
      "0     0.29678            2.51738            Switze  \n",
      "1     0.43630            2.70201            Icelan  \n",
      "2     0.34139            2.49204            Denmar  \n",
      "3     0.34699            2.46531            Norway  \n",
      "4     0.45811            2.45176            Canada  \n"
     ]
    }
   ],
   "source": [
    "import pandas as pd\n",
    "url=\"https://raw.githubusercontent.com/dsrscientist/DSData/master/happiness_score_dataset.csv\"\n",
    "data=pd.read_csv(url)\n",
    "pattern = r'^(\\w{1,6})'\n",
    "data['first_five_letter']=data['Country'].str.extract(pattern,)\n",
    "print(data.head())\n"
   ]
  },
  {
   "cell_type": "code",
   "execution_count": null,
   "id": "13f342f9",
   "metadata": {},
   "outputs": [],
   "source": []
  },
  {
   "cell_type": "code",
   "execution_count": null,
   "id": "df0b5c7b",
   "metadata": {},
   "outputs": [],
   "source": []
  },
  {
   "cell_type": "markdown",
   "id": "e51370c2",
   "metadata": {},
   "source": [
    "Q11)\n",
    "Write a Python program to match a string that contains only upper and lowercase letters, numbers, and underscores."
   ]
  },
  {
   "cell_type": "code",
   "execution_count": 95,
   "id": "103d0011",
   "metadata": {},
   "outputs": [
    {
     "name": "stdout",
     "output_type": "stream",
     "text": [
      "<re.Match object; span=(0, 8), match='Hello123'>\n",
      "<re.Match object; span=(0, 15), match='Python_is_great'>\n",
      "<re.Match object; span=(0, 11), match='123_abc_DEF'>\n",
      "None\n"
     ]
    }
   ],
   "source": [
    "strings=[\"Hello123\",\"Python_is_great\",\"123_abc_DEF\",\"special@character\"]\n",
    "pattern=r'^[a-zA-Z0-9_]+$'\n",
    "for string in strings:\n",
    "    match=re.match(pattern,string)\n",
    "    print(match)"
   ]
  },
  {
   "cell_type": "code",
   "execution_count": null,
   "id": "ceec6db7",
   "metadata": {},
   "outputs": [],
   "source": []
  },
  {
   "cell_type": "code",
   "execution_count": null,
   "id": "3c17a2ea",
   "metadata": {},
   "outputs": [],
   "source": []
  },
  {
   "cell_type": "markdown",
   "id": "b41c4f6b",
   "metadata": {},
   "source": [
    "Q12)\n",
    "Write a Python program where a string will start with a specific number. "
   ]
  },
  {
   "cell_type": "code",
   "execution_count": 90,
   "id": "3f30a57c",
   "metadata": {},
   "outputs": [
    {
     "name": "stdout",
     "output_type": "stream",
     "text": [
      "['12345Hello']\n",
      "['456World']\n",
      "['789Python']\n",
      "[]\n"
     ]
    }
   ],
   "source": [
    "strings=[\"12345Hello\",\"456World\",\"789Python\",\"Hello123\"]\n",
    "pattern=r'\\b\\d{1,4}\\w*\\b'\n",
    "for string in strings:\n",
    "    matches=re.findall(pattern, string)\n",
    "    \n",
    "    print(matches)\n",
    "\n"
   ]
  },
  {
   "cell_type": "code",
   "execution_count": null,
   "id": "bf629e7b",
   "metadata": {},
   "outputs": [],
   "source": []
  },
  {
   "cell_type": "code",
   "execution_count": null,
   "id": "778d1dee",
   "metadata": {},
   "outputs": [],
   "source": []
  },
  {
   "cell_type": "markdown",
   "id": "87e77e05",
   "metadata": {},
   "source": [
    "Q13)\n",
    "Write a Python program to remove leading zeros from an IP address"
   ]
  },
  {
   "cell_type": "code",
   "execution_count": 76,
   "id": "00c7794f",
   "metadata": {},
   "outputs": [
    {
     "name": "stdout",
     "output_type": "stream",
     "text": [
      "Modified IP address: 192.168.1.1\n"
     ]
    }
   ],
   "source": [
    "ip_address=\"192.168.001.001\"\n",
    "pattern=r'\\b0+(\\d+)\\b'\n",
    "modified_ip=re.sub(pattern,r'1',ip_address)\n",
    "print(\"Modified IP address:\",modified_ip)\n"
   ]
  },
  {
   "cell_type": "code",
   "execution_count": null,
   "id": "fd93497e",
   "metadata": {},
   "outputs": [],
   "source": []
  },
  {
   "cell_type": "code",
   "execution_count": null,
   "id": "3a5b78b3",
   "metadata": {},
   "outputs": [],
   "source": []
  },
  {
   "cell_type": "markdown",
   "id": "7500d636",
   "metadata": {},
   "source": [
    "Q14)\n",
    "Write a regular expression in python to match a date string in the form of Month name followed by day number and year stored in a text file.\n",
    "Sample text :  ' On August 15th 1947 that India was declared independent from British colonialism, and the reins of control were handed over to the leaders of the Country’.\n",
    "Expected Output- August 15th 1947\n",
    "Note- Store given sample text in the text file and then extract the date string asked format.\n"
   ]
  },
  {
   "cell_type": "code",
   "execution_count": 71,
   "id": "cb838045",
   "metadata": {},
   "outputs": [
    {
     "name": "stdout",
     "output_type": "stream",
     "text": [
      "Extracted date string: ['August 15th 1947']\n"
     ]
    }
   ],
   "source": [
    "#open text file in read mode\n",
    "filepath= \"sample_text1.txt\"\n",
    "with open(filepath,'r') as file:\n",
    "    text=file.read()\n",
    "    \n",
    "#define regex pattern for dates\n",
    "date_pattern=r'\\b(?:January|February|March|April|May|June|July|August|September|October|November|December)\\s+\\d{1,2}(?:st|nd|rd|th)\\s+\\d{4}\\b'\n",
    "\n",
    "dates=re.findall(date_pattern,text)\n",
    "print(\"Extracted date string:\",dates)"
   ]
  },
  {
   "cell_type": "code",
   "execution_count": null,
   "id": "aacdfaa9",
   "metadata": {},
   "outputs": [],
   "source": []
  },
  {
   "cell_type": "code",
   "execution_count": null,
   "id": "b4aa6833",
   "metadata": {},
   "outputs": [],
   "source": []
  },
  {
   "cell_type": "markdown",
   "id": "c814f0ad",
   "metadata": {},
   "source": [
    "Q15)Write a Python program to search some literals strings in a string. \n",
    "Sample text : 'The quick brown fox jumps over the lazy dog.'\n",
    "Searched words : 'fox', 'dog', 'horse'\n"
   ]
  },
  {
   "cell_type": "code",
   "execution_count": 69,
   "id": "a1bb1512",
   "metadata": {},
   "outputs": [
    {
     "name": "stdout",
     "output_type": "stream",
     "text": [
      "Pattern 'fox|dog|horse' found at position 16 to 18 in the sample text.\n",
      "Searched words: ['fox', 'dog']\n",
      "Pattern 'fox|dog|horse' found at position 16 to 18 in the sample text.\n",
      "Searched words: ['fox', 'dog']\n"
     ]
    }
   ],
   "source": [
    "Sample_text='The quick brown fox jumps over the lazy dog.'\n",
    "pattern='fox|dog|horse'\n",
    "searches=re.findall(pattern,Sample_text)\n",
    "for search in searches:\n",
    "    start_index = match.start()\n",
    "    end_index = match.end()\n",
    "    print(f\"Pattern '{pattern}' found at position {start_index} to {end_index-1} in the sample text.\")\n",
    "    print(\"Searched words:\",searches)"
   ]
  },
  {
   "cell_type": "code",
   "execution_count": null,
   "id": "55c40967",
   "metadata": {},
   "outputs": [],
   "source": []
  },
  {
   "cell_type": "code",
   "execution_count": null,
   "id": "fbebbd31",
   "metadata": {},
   "outputs": [],
   "source": []
  },
  {
   "cell_type": "markdown",
   "id": "b991f1ce",
   "metadata": {},
   "source": [
    "Q16)\n",
    "Write a Python program to search a literals string in a string and also find the location within the original string where the pattern occurs\n",
    "Sample text : 'The quick brown fox jumps over the lazy dog.'\n",
    "Searched words : 'fox'\n"
   ]
  },
  {
   "cell_type": "code",
   "execution_count": 66,
   "id": "bfa88c89",
   "metadata": {},
   "outputs": [
    {
     "name": "stdout",
     "output_type": "stream",
     "text": [
      "Pattern 'fox' found at position 16 to 18 in the sample text.\n"
     ]
    }
   ],
   "source": [
    "Sample_text='The quick brown fox jumps over the lazy dog.'\n",
    "pattern='fox'\n",
    "matches=re.finditer(pattern,Sample_text)\n",
    "for match in matches:\n",
    "    start_index = match.start()\n",
    "    end_index = match.end()\n",
    "    print(f\"Pattern '{pattern}' found at position {start_index} to {end_index-1} in the sample text.\")"
   ]
  },
  {
   "cell_type": "code",
   "execution_count": null,
   "id": "326246b7",
   "metadata": {},
   "outputs": [],
   "source": []
  },
  {
   "cell_type": "code",
   "execution_count": null,
   "id": "b9315ebd",
   "metadata": {},
   "outputs": [],
   "source": []
  },
  {
   "cell_type": "markdown",
   "id": "9e5dc17d",
   "metadata": {},
   "source": [
    "Q17)\n",
    "- Write a Python program to find the substrings within a string.\n",
    "Sample text : 'Python exercises, PHP exercises, C# exercises'\n",
    "Pattern : 'exercises'.\n"
   ]
  },
  {
   "cell_type": "code",
   "execution_count": 60,
   "id": "f87ab481",
   "metadata": {},
   "outputs": [
    {
     "name": "stdout",
     "output_type": "stream",
     "text": [
      "['exercises', 'exercises', 'exercises']\n"
     ]
    }
   ],
   "source": [
    "Sample_text='Python exercises,PHP exercises,C# exercises'\n",
    "pattern='exercises'\n",
    "result=re.findall(pattern,Sample_text)\n",
    "print(result)\n"
   ]
  },
  {
   "cell_type": "code",
   "execution_count": null,
   "id": "0ce25a32",
   "metadata": {},
   "outputs": [],
   "source": []
  },
  {
   "cell_type": "code",
   "execution_count": null,
   "id": "e4f5b152",
   "metadata": {},
   "outputs": [],
   "source": []
  },
  {
   "cell_type": "markdown",
   "id": "94c56ca9",
   "metadata": {},
   "source": [
    "Q18)"
   ]
  },
  {
   "cell_type": "code",
   "execution_count": null,
   "id": "8c9d8fa4",
   "metadata": {},
   "outputs": [],
   "source": []
  },
  {
   "cell_type": "code",
   "execution_count": null,
   "id": "579b6ae0",
   "metadata": {},
   "outputs": [],
   "source": []
  },
  {
   "cell_type": "markdown",
   "id": "35a129ae",
   "metadata": {},
   "source": [
    "Q19)\n",
    "Write a Python program to convert a date of yyyy-mm-dd format to dd-mm-yyyy format."
   ]
  },
  {
   "cell_type": "code",
   "execution_count": 59,
   "id": "57edf965",
   "metadata": {},
   "outputs": [
    {
     "name": "stdout",
     "output_type": "stream",
     "text": [
      "Original date: 2023-04-15\n",
      "Converted date: 15-04-2023\n"
     ]
    }
   ],
   "source": [
    "date_string='2023-04-15'\n",
    "split=date_string.split(\"-\")\n",
    "output=f\"{split[2]}-{split[1]}-{split[0]}\"\n",
    "print(\"Original date:\",date_string)\n",
    "print(\"Converted date:\",output)\n"
   ]
  },
  {
   "cell_type": "code",
   "execution_count": null,
   "id": "97452173",
   "metadata": {},
   "outputs": [],
   "source": []
  },
  {
   "cell_type": "markdown",
   "id": "71dbd2fe",
   "metadata": {},
   "source": [
    "Q20)\n",
    "Create a function in python to find all decimal numbers with a precision of 1 or 2 in a string. The use of the re.compile() method is mandatory.\n",
    "Sample Text: \"01.12 0132.123 2.31875 145.8 3.01 27.25 0.25\"\n",
    "Expected Output: ['01.12', '145.8', '3.01', '27.25', '0.25']\n"
   ]
  },
  {
   "cell_type": "code",
   "execution_count": 56,
   "id": "61a290d8",
   "metadata": {},
   "outputs": [
    {
     "name": "stdout",
     "output_type": "stream",
     "text": [
      "Expected Output: ['01.12', '145.8', '3.01', '27.25', '0.25']\n"
     ]
    }
   ],
   "source": [
    "sample_text=\"01.12 0132.123 2.31875 145.8 3.01 27.25 0.25\"\n",
    "pattern=re.compile(r'\\b\\d+\\.\\d{1,2}\\b')\n",
    "decimal_numbers=pattern.findall(sample_text)\n",
    "print(\"Expected Output:\",decimal_numbers)"
   ]
  },
  {
   "cell_type": "code",
   "execution_count": null,
   "id": "101437e6",
   "metadata": {},
   "outputs": [],
   "source": []
  },
  {
   "cell_type": "code",
   "execution_count": null,
   "id": "ec08351d",
   "metadata": {},
   "outputs": [],
   "source": []
  },
  {
   "cell_type": "markdown",
   "id": "528ae116",
   "metadata": {},
   "source": [
    "Q21)\n",
    "Write a Python program to separate and print the numbers and their position of a given string."
   ]
  },
  {
   "cell_type": "code",
   "execution_count": 53,
   "id": "0ec86532",
   "metadata": {},
   "outputs": [
    {
     "name": "stdout",
     "output_type": "stream",
     "text": [
      "Number:123,Start Position:5,End Position:8\n",
      "Number:456,Start Position:13,End Position:16\n"
     ]
    }
   ],
   "source": [
    "sample_string=\"Hello123World456\"\n",
    "pattern=r'\\d+'\n",
    "results=re.finditer(pattern,sample_string)\n",
    "for match in results:\n",
    "    number=match.group()\n",
    "    start_pos=match.start()\n",
    "    end_pos=match.end()\n",
    "    print(f\"Number:{number},Start Position:{start_pos},End Position:{end_pos}\")\n"
   ]
  },
  {
   "cell_type": "code",
   "execution_count": null,
   "id": "102a81d0",
   "metadata": {},
   "outputs": [],
   "source": []
  },
  {
   "cell_type": "code",
   "execution_count": null,
   "id": "99bcdeec",
   "metadata": {},
   "outputs": [],
   "source": []
  },
  {
   "cell_type": "markdown",
   "id": "639c035c",
   "metadata": {},
   "source": [
    "Q22)\n",
    "Write a regular expression in python program to extract maximum/largest numeric value from a string.\n",
    "Sample Text:  'My marks in each semester are: 947, 896, 926, 524, 734, 950, 642'"
   ]
  },
  {
   "cell_type": "code",
   "execution_count": 48,
   "id": "7be57e22",
   "metadata": {},
   "outputs": [
    {
     "name": "stdout",
     "output_type": "stream",
     "text": [
      "Expected Output: 950\n"
     ]
    }
   ],
   "source": [
    "SampleText='My marks in each semester are:947,896,926,524,734,950,642'\n",
    "pattern=r'\\b\\d+\\b'\n",
    "numeric_values=re.findall(pattern,SampleText)\n",
    "max_value=max(numeric_values)\n",
    "print(\"Expected Output:\",max_value)\n"
   ]
  },
  {
   "cell_type": "code",
   "execution_count": null,
   "id": "b4e6668a",
   "metadata": {},
   "outputs": [],
   "source": []
  },
  {
   "cell_type": "code",
   "execution_count": null,
   "id": "d6e4f972",
   "metadata": {},
   "outputs": [],
   "source": []
  },
  {
   "cell_type": "markdown",
   "id": "6140958d",
   "metadata": {},
   "source": [
    "Q23)\n",
    "Create a function in python to insert spaces between words starting with capital letters.\n",
    "Sample Text: “RegularExpressionIsAnImportantTopicInPython\"\n",
    "Expected Output: Regular Expression Is An Important Topic In Python\n"
   ]
  },
  {
   "cell_type": "code",
   "execution_count": 46,
   "id": "130e54a7",
   "metadata": {},
   "outputs": [
    {
     "name": "stdout",
     "output_type": "stream",
     "text": [
      "Expected Output: Regular Expression Is An Important Topic In Python\n"
     ]
    }
   ],
   "source": [
    "sample_text=\"RegularExpressionIsAnImportantTopicInPython\"\n",
    "pattern=r'(?<!^)(?=[A-Z])'\n",
    "result=re.sub(pattern,' ',sample_text)\n",
    "print(\"Expected Output:\",result)\n"
   ]
  },
  {
   "cell_type": "code",
   "execution_count": null,
   "id": "31f77346",
   "metadata": {},
   "outputs": [],
   "source": []
  },
  {
   "cell_type": "code",
   "execution_count": null,
   "id": "3122ec03",
   "metadata": {},
   "outputs": [],
   "source": []
  },
  {
   "cell_type": "markdown",
   "id": "8b721016",
   "metadata": {},
   "source": [
    "Q24)\n",
    "Python regex to find sequences of one upper case letter followed by lower case letters"
   ]
  },
  {
   "cell_type": "code",
   "execution_count": 43,
   "id": "0ff1b22b",
   "metadata": {},
   "outputs": [
    {
     "name": "stdout",
     "output_type": "stream",
     "text": [
      "Matches: ['The', 'Quick', 'Fox', 'Lazy', 'Dog']\n"
     ]
    }
   ],
   "source": [
    "import re\n",
    "\n",
    "sample_text=\"The Quick brown Fox jumps over the Lazy Dog.\"\n",
    "pattern=r'[A-Z][a-z]+'\n",
    "result=re.findall(pattern,sample_text)\n",
    "print(\"Matches:\",result)\n"
   ]
  },
  {
   "cell_type": "code",
   "execution_count": null,
   "id": "65b1fa8a",
   "metadata": {},
   "outputs": [],
   "source": []
  },
  {
   "cell_type": "code",
   "execution_count": null,
   "id": "83509256",
   "metadata": {},
   "outputs": [],
   "source": []
  },
  {
   "cell_type": "markdown",
   "id": "a062ee1b",
   "metadata": {},
   "source": [
    "Q25)"
   ]
  },
  {
   "cell_type": "code",
   "execution_count": 39,
   "id": "1509848f",
   "metadata": {},
   "outputs": [
    {
     "name": "stdout",
     "output_type": "stream",
     "text": [
      "Expected Output: Hello hello world\n"
     ]
    }
   ],
   "source": [
    "import re\n",
    "\n",
    "sample_text=\"Hello hello world world\"\n",
    "pattern=r'\\b(\\w+)(\\s+\\1)+\\b'\n",
    "regex=re.sub(pattern,r\"\\1\",sample_text)\n",
    "print(\"Expected Output:\", regex)\n"
   ]
  },
  {
   "cell_type": "code",
   "execution_count": null,
   "id": "f5584826",
   "metadata": {},
   "outputs": [],
   "source": []
  },
  {
   "cell_type": "markdown",
   "id": "913fae47",
   "metadata": {},
   "source": [
    "Q26)\n",
    "Write a python program using RegEx to accept string ending with alphanumeric character."
   ]
  },
  {
   "cell_type": "code",
   "execution_count": 38,
   "id": "c5e37412",
   "metadata": {},
   "outputs": [
    {
     "name": "stdout",
     "output_type": "stream",
     "text": [
      "Strings ending with an alphanumeric character:\n",
      "Purple02758\n",
      "and\n",
      "Mu5Hr00Ms571\n",
      "are\n",
      "both\n",
      "alphanumeric\n",
      "strings\n"
     ]
    }
   ],
   "source": [
    "sample_text=\"Purple02758&! and Mu5Hr00Ms571&@! are both alphanumeric strings.\"\n",
    "pattern=r'\\b\\w+[a-zA-Z0-9]\\b'\n",
    "results=re.findall(pattern, sample_text)\n",
    "print(\"Strings ending with an alphanumeric character:\")\n",
    "for result in results:\n",
    "    print(result)"
   ]
  },
  {
   "cell_type": "code",
   "execution_count": null,
   "id": "ba839630",
   "metadata": {},
   "outputs": [],
   "source": []
  },
  {
   "cell_type": "code",
   "execution_count": null,
   "id": "c5f975ff",
   "metadata": {},
   "outputs": [],
   "source": []
  },
  {
   "cell_type": "markdown",
   "id": "fe1e9ab0",
   "metadata": {},
   "source": [
    "Q27)\n",
    "Write a python program using RegEx to extract the hashtags.\n",
    "Sample Text:  \"\"\"RT @kapil_kausik: #Doltiwal I mean #xyzabc is \"hurt\" by #Demonetization as the same has rendered USELESS <ed><U+00A0><U+00BD><ed><U+00B1><U+0089> \"acquired funds\" No wo\"\"\"\n",
    "Expected Output: ['#Doltiwal', '#xyzabc', '#Demonetization']\n"
   ]
  },
  {
   "cell_type": "code",
   "execution_count": 25,
   "id": "a3743f61",
   "metadata": {},
   "outputs": [
    {
     "name": "stdout",
     "output_type": "stream",
     "text": [
      "Expected Output: ['#Doltiwal', '#xyzabc', '#Demonetization']\n"
     ]
    }
   ],
   "source": [
    "Sample_Text=\"\"\"RT @kapil_kausik: #Doltiwal I mean #xyzabc is \"hurt\" by #Demonetization as the same has rendered USELESS <ed><U+00A0><U+00BD><ed><U+00B1><U+0089> \"acquired funds\" No wo\"\"\"\n",
    "    \n",
    "pattern=r'\\#\\w+'\n",
    "\n",
    "result=re.findall(pattern,Sample_Text)\n",
    "print(\"Expected Output:\",result)"
   ]
  },
  {
   "cell_type": "code",
   "execution_count": null,
   "id": "102948ec",
   "metadata": {},
   "outputs": [],
   "source": []
  },
  {
   "cell_type": "code",
   "execution_count": null,
   "id": "15c22ee3",
   "metadata": {},
   "outputs": [],
   "source": []
  },
  {
   "cell_type": "markdown",
   "id": "52fdfc87",
   "metadata": {},
   "source": [
    "Q28)\n",
    "Write a python program using RegEx to remove <U+..> like symbols\n",
    "Check the below sample text, there are strange symbols something of the sort <U+..> all over the place. You need to come up with a general Regex expression that will cover all such symbols.\n",
    "Sample Text: \"@Jags123456 Bharat band on 28??<ed><U+00A0><U+00BD><ed><U+00B8><U+0082>Those who  are protesting #demonetization  are all different party leaders\"\n",
    "Expected Output: @Jags123456 Bharat band on 28??<ed><ed>Those who  are protesting #demonetization  are all different party leaders\n"
   ]
  },
  {
   "cell_type": "code",
   "execution_count": 21,
   "id": "7f8f5694",
   "metadata": {},
   "outputs": [
    {
     "name": "stdout",
     "output_type": "stream",
     "text": [
      "Expected Output: @Jags123456 Bharat band on 28??<ed><ed>Those who  are protesting #demonetization  are all different party leaders\n"
     ]
    }
   ],
   "source": [
    "Sample_Text=\"@Jags123456 Bharat band on 28??<ed><U+00A0><U+00BD><ed><U+00B8><U+0082>Those who  are protesting #demonetization  are all different party leaders\"\n",
    "\n",
    "pattern=r'<U\\+[0-9A-Za-z]{2,4}>'\n",
    "result=re.sub(pattern,'',Sample_Text)\n",
    "print(\"Expected Output:\",result)\n",
    "\n",
    "    "
   ]
  },
  {
   "cell_type": "code",
   "execution_count": null,
   "id": "d68b72c8",
   "metadata": {},
   "outputs": [],
   "source": []
  },
  {
   "cell_type": "markdown",
   "id": "67e9fd76",
   "metadata": {},
   "source": [
    "Q29)\n",
    "Write a python program to extract dates from the text stored in the text file.\n",
    "Sample Text: Ron was born on 12-09-1992 and he was admitted to school 15-12-1999.\n",
    "Note- Store this sample text in the file and then extract dates.\n"
   ]
  },
  {
   "cell_type": "code",
   "execution_count": 15,
   "id": "0a12dfee",
   "metadata": {},
   "outputs": [
    {
     "name": "stdout",
     "output_type": "stream",
     "text": [
      "dates found in the text: ['12-09-1992', '15-12-1999']\n"
     ]
    }
   ],
   "source": [
    "#open text file in read mode\n",
    "filepath= \"text_file.txt\"\n",
    "with open(filepath,'r') as file:\n",
    "    text=file.read()\n",
    "    \n",
    "#define regex pattern for dates\n",
    "date_pattern=r'\\b\\d{1,2}[/-]\\d{1,2}[/-]\\d{2,4}\\b'\n",
    "\n",
    "dates=re.findall(date_pattern,text)\n",
    "print(\"dates found in the text:\",dates)"
   ]
  },
  {
   "cell_type": "code",
   "execution_count": null,
   "id": "e46e0d4e",
   "metadata": {},
   "outputs": [],
   "source": []
  },
  {
   "cell_type": "markdown",
   "id": "2ab0cbba",
   "metadata": {},
   "source": [
    "Q30)\n",
    "Create a function in python to remove all words from a string of length between 2 and 4.\n",
    "The use of the re.compile() method is mandatory.\n",
    "Sample Text: \"The following example creates an ArrayList with a capacity of 50 elements. 4 elements are then added to the ArrayList and the ArrayList is trimmed accordingly.\"\n",
    "Expected Output:  following example creates ArrayList a capacity elements. 4 elements added ArrayList ArrayList trimmed accordingly.\n"
   ]
  },
  {
   "cell_type": "code",
   "execution_count": 128,
   "id": "9e992c12",
   "metadata": {},
   "outputs": [
    {
     "name": "stdout",
     "output_type": "stream",
     "text": [
      "Expected Output:  following example creates  ArrayList  a capacity   elements. 4 elements   added   ArrayList   ArrayList  trimmed accordingly.\n"
     ]
    }
   ],
   "source": [
    "Sample_Text=\"The following example creates an ArrayList with a capacity of 50 elements. 4 elements are then added to the ArrayList and the ArrayList is trimmed accordingly.\"\n",
    "\n",
    "pattern=re.compile(r'\\b\\w{2,4}\\b')\n",
    "result=[pattern.sub('',Sample_Text)]\n",
    "for string in result:\n",
    "    print(\"Expected Output:\",string)\n"
   ]
  },
  {
   "cell_type": "code",
   "execution_count": null,
   "id": "be8a5492",
   "metadata": {},
   "outputs": [],
   "source": []
  },
  {
   "cell_type": "code",
   "execution_count": null,
   "id": "35826a94",
   "metadata": {},
   "outputs": [],
   "source": []
  },
  {
   "cell_type": "code",
   "execution_count": null,
   "id": "7e3bfe48",
   "metadata": {},
   "outputs": [],
   "source": []
  },
  {
   "cell_type": "code",
   "execution_count": null,
   "id": "0deb5542",
   "metadata": {},
   "outputs": [],
   "source": []
  },
  {
   "cell_type": "code",
   "execution_count": null,
   "id": "7d9b3406",
   "metadata": {},
   "outputs": [],
   "source": []
  },
  {
   "cell_type": "code",
   "execution_count": null,
   "id": "41850543",
   "metadata": {},
   "outputs": [],
   "source": []
  },
  {
   "cell_type": "code",
   "execution_count": null,
   "id": "2e9babbd",
   "metadata": {},
   "outputs": [],
   "source": []
  },
  {
   "cell_type": "code",
   "execution_count": null,
   "id": "8e55c8f9",
   "metadata": {},
   "outputs": [],
   "source": []
  },
  {
   "cell_type": "code",
   "execution_count": null,
   "id": "8b602fdb",
   "metadata": {},
   "outputs": [],
   "source": []
  },
  {
   "cell_type": "code",
   "execution_count": null,
   "id": "c3f48897",
   "metadata": {},
   "outputs": [],
   "source": []
  },
  {
   "cell_type": "code",
   "execution_count": null,
   "id": "e0ca4077",
   "metadata": {},
   "outputs": [],
   "source": []
  },
  {
   "cell_type": "code",
   "execution_count": null,
   "id": "2a222983",
   "metadata": {},
   "outputs": [],
   "source": []
  },
  {
   "cell_type": "code",
   "execution_count": null,
   "id": "46927b6a",
   "metadata": {},
   "outputs": [],
   "source": []
  },
  {
   "cell_type": "code",
   "execution_count": null,
   "id": "64506a78",
   "metadata": {},
   "outputs": [],
   "source": []
  }
 ],
 "metadata": {
  "kernelspec": {
   "display_name": "Python 3 (ipykernel)",
   "language": "python",
   "name": "python3"
  },
  "language_info": {
   "codemirror_mode": {
    "name": "ipython",
    "version": 3
   },
   "file_extension": ".py",
   "mimetype": "text/x-python",
   "name": "python",
   "nbconvert_exporter": "python",
   "pygments_lexer": "ipython3",
   "version": "3.11.4"
  }
 },
 "nbformat": 4,
 "nbformat_minor": 5
}
