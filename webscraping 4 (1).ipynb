{
 "cells": [
  {
   "cell_type": "code",
   "execution_count": 1,
   "id": "c6ff2b97",
   "metadata": {},
   "outputs": [],
   "source": [
    "from selenium import webdriver\n",
    "from selenium.webdriver.common.by import By\n",
    "from selenium.webdriver.common.keys import Keys\n",
    "import pandas as pd"
   ]
  },
  {
   "cell_type": "code",
   "execution_count": 2,
   "id": "29b1e7d3",
   "metadata": {},
   "outputs": [],
   "source": [
    "from selenium import webdriver\n",
    "from selenium.webdriver.common.by import By\n",
    "from selenium.webdriver.common.keys import Keys\n",
    "from selenium.webdriver.chrome.service import Service\n",
    "from webdriver_manager.chrome import ChromeDriverManager\n",
    "import time\n",
    "import pandas as pd\n",
    "from bs4 import BeautifulSoup\n",
    "import requests"
   ]
  },
  {
   "cell_type": "code",
   "execution_count": null,
   "id": "bf0e12e9",
   "metadata": {},
   "outputs": [],
   "source": []
  },
  {
   "cell_type": "code",
   "execution_count": null,
   "id": "8c88750c",
   "metadata": {},
   "outputs": [],
   "source": [
    "Q1)"
   ]
  },
  {
   "cell_type": "code",
   "execution_count": 3,
   "id": "6b5af4fc",
   "metadata": {},
   "outputs": [],
   "source": [
    "driver=webdriver.Chrome()"
   ]
  },
  {
   "cell_type": "code",
   "execution_count": 4,
   "id": "bd731f0a",
   "metadata": {},
   "outputs": [],
   "source": [
    "driver.get('https://en.wikipedia.org/wiki/List_of_most-viewed_YouTube_videos')"
   ]
  },
  {
   "cell_type": "code",
   "execution_count": 5,
   "id": "116ae8cd",
   "metadata": {},
   "outputs": [],
   "source": [
    "# creating lists\n",
    "rank =[]\n",
    "name =[]\n",
    "artist =[]\n",
    "upload_date =[]\n",
    "views =[]"
   ]
  },
  {
   "cell_type": "code",
   "execution_count": 7,
   "id": "c0aeb3c2",
   "metadata": {},
   "outputs": [],
   "source": [
    "tables=driver.find_element(By.XPATH,'//table')"
   ]
  },
  {
   "cell_type": "code",
   "execution_count": null,
   "id": "ac81191f",
   "metadata": {},
   "outputs": [],
   "source": [
    "video_table="
   ]
  },
  {
   "cell_type": "code",
   "execution_count": null,
   "id": "f51d6d95",
   "metadata": {},
   "outputs": [],
   "source": [
    "//*[@id=\"mw-content-text\"]/div[1]/table[1]"
   ]
  },
  {
   "cell_type": "code",
   "execution_count": null,
   "id": "47d2c948",
   "metadata": {},
   "outputs": [],
   "source": [
    "/html/body/div[2]/div/div[3]/main/div[3]/div[3]/div[1]/table[1]"
   ]
  },
  {
   "cell_type": "code",
   "execution_count": 8,
   "id": "1e79d395",
   "metadata": {},
   "outputs": [
    {
     "data": {
      "text/html": [
       "<div>\n",
       "<style scoped>\n",
       "    .dataframe tbody tr th:only-of-type {\n",
       "        vertical-align: middle;\n",
       "    }\n",
       "\n",
       "    .dataframe tbody tr th {\n",
       "        vertical-align: top;\n",
       "    }\n",
       "\n",
       "    .dataframe thead th {\n",
       "        text-align: right;\n",
       "    }\n",
       "</style>\n",
       "<table border=\"1\" class=\"dataframe\">\n",
       "  <thead>\n",
       "    <tr style=\"text-align: right;\">\n",
       "      <th></th>\n",
       "      <th>Rank</th>\n",
       "      <th>Name</th>\n",
       "      <th>Artist</th>\n",
       "      <th>Upload Date</th>\n",
       "      <th>Views (billions)</th>\n",
       "    </tr>\n",
       "  </thead>\n",
       "  <tbody>\n",
       "  </tbody>\n",
       "</table>\n",
       "</div>"
      ],
      "text/plain": [
       "Empty DataFrame\n",
       "Columns: [Rank, Name, Artist, Upload Date, Views (billions)]\n",
       "Index: []"
      ]
     },
     "execution_count": 8,
     "metadata": {},
     "output_type": "execute_result"
    }
   ],
   "source": [
    "# Create Dataframe\n",
    "mn = pd.DataFrame({'Rank': rank, 'Name': name, 'Artist': artist, 'Upload Date': upload_date, 'Views (billions)': views})\n",
    "mn"
   ]
  },
  {
   "cell_type": "code",
   "execution_count": null,
   "id": "6d7386c1",
   "metadata": {},
   "outputs": [],
   "source": []
  },
  {
   "cell_type": "code",
   "execution_count": null,
   "id": "7e26c8a9",
   "metadata": {},
   "outputs": [],
   "source": [
    "2)"
   ]
  },
  {
   "cell_type": "code",
   "execution_count": 9,
   "id": "215880fe",
   "metadata": {},
   "outputs": [],
   "source": [
    "driver=webdriver.Chrome()\n",
    "driver.get('https://www.bcci.tv/')"
   ]
  },
  {
   "cell_type": "code",
   "execution_count": 10,
   "id": "6c5911a5",
   "metadata": {},
   "outputs": [],
   "source": [
    "#Team India’s International Fixtures page\n",
    "\n",
    "fixture=driver.find_element(By.XPATH,'/html/body/header/div[3]/div[2]/ul/div[1]/a[2]')\n",
    "fixture.click()"
   ]
  },
  {
   "cell_type": "code",
   "execution_count": 11,
   "id": "2953b12d",
   "metadata": {},
   "outputs": [],
   "source": [
    "# creating list\n",
    "\n",
    "series = []\n",
    "place = []\n",
    "date = []\n",
    "time = []"
   ]
  },
  {
   "cell_type": "code",
   "execution_count": null,
   "id": "43493fcb",
   "metadata": {},
   "outputs": [],
   "source": [
    "series=driver.find_element(By.XPATH,'')"
   ]
  },
  {
   "cell_type": "code",
   "execution_count": 12,
   "id": "1b57561d",
   "metadata": {},
   "outputs": [],
   "source": [
    "match_details=driver.find_element(By.XPATH,'/html/body/section/div/div/div/div/div/div[2]/div[3]/div[1]/div[1]/div[2]/div[3]/div/a')\n",
    "match_details.click()"
   ]
  },
  {
   "cell_type": "code",
   "execution_count": 23,
   "id": "36e57a6e",
   "metadata": {},
   "outputs": [],
   "source": [
    "series_name=driver.find_elements(By.XPATH,'/html/body/div[5]/div/div[1]/div[2]/div[2]/div[3]/div[2]/div[2]/div[1]/div[3]/div[1]/div/ul/li[1]/span[2]')\n",
    "for i in series_name:\n",
    "    seriess=i.text\n",
    "    series.append(seriess)\n",
    "    "
   ]
  },
  {
   "cell_type": "code",
   "execution_count": 15,
   "id": "dd83825c",
   "metadata": {},
   "outputs": [],
   "source": [
    "location_tags=driver.find_elements(By.XPATH,'/html/body/div[5]/div/div[1]/div[2]/div[2]/div[3]/div[2]/div[2]/div[1]/div[3]/div[1]/div/ul/li[3]/span[2]')\n",
    "for i in location_tags:\n",
    "    location=i.text\n",
    "    place.append(location)"
   ]
  },
  {
   "cell_type": "code",
   "execution_count": 17,
   "id": "067e0157",
   "metadata": {},
   "outputs": [],
   "source": [
    "Date_tag=driver.find_elements(By.XPATH,'/html/body/div[5]/div/div[1]/div[2]/div[2]/div[3]/div[1]/div[1]/div/div[3]/div[1]')\n",
    "for i in Date_tag:\n",
    "    dt1=i.text\n",
    "    place.append(dt1)"
   ]
  },
  {
   "cell_type": "code",
   "execution_count": 18,
   "id": "e159d0cd",
   "metadata": {},
   "outputs": [],
   "source": [
    "time_tag=driver.find_elements(By.XPATH,'/html/body/div[5]/div/div[1]/div[2]/div[2]/div[3]/div[1]/div[1]/div/div[3]/div[2]')\n",
    "for i in time_tag:\n",
    "    tim=i.text\n",
    "    place.append(tim)"
   ]
  },
  {
   "cell_type": "code",
   "execution_count": 24,
   "id": "9461008c",
   "metadata": {},
   "outputs": [
    {
     "ename": "ValueError",
     "evalue": "All arrays must be of the same length",
     "output_type": "error",
     "traceback": [
      "\u001b[1;31m---------------------------------------------------------------------------\u001b[0m",
      "\u001b[1;31mValueError\u001b[0m                                Traceback (most recent call last)",
      "Cell \u001b[1;32mIn[24], line 1\u001b[0m\n\u001b[1;32m----> 1\u001b[0m df\u001b[38;5;241m=\u001b[39mpd\u001b[38;5;241m.\u001b[39mDataFrame({\u001b[38;5;124m'\u001b[39m\u001b[38;5;124mSeries\u001b[39m\u001b[38;5;124m'\u001b[39m:series,\u001b[38;5;124m'\u001b[39m\u001b[38;5;124mPlace\u001b[39m\u001b[38;5;124m'\u001b[39m: place,\u001b[38;5;124m'\u001b[39m\u001b[38;5;124mDate\u001b[39m\u001b[38;5;124m'\u001b[39m:date,\u001b[38;5;124m'\u001b[39m\u001b[38;5;124mTime\u001b[39m\u001b[38;5;124m'\u001b[39m:time})\n",
      "File \u001b[1;32m~\\anaconda3\\Lib\\site-packages\\pandas\\core\\frame.py:664\u001b[0m, in \u001b[0;36mDataFrame.__init__\u001b[1;34m(self, data, index, columns, dtype, copy)\u001b[0m\n\u001b[0;32m    658\u001b[0m     mgr \u001b[38;5;241m=\u001b[39m \u001b[38;5;28mself\u001b[39m\u001b[38;5;241m.\u001b[39m_init_mgr(\n\u001b[0;32m    659\u001b[0m         data, axes\u001b[38;5;241m=\u001b[39m{\u001b[38;5;124m\"\u001b[39m\u001b[38;5;124mindex\u001b[39m\u001b[38;5;124m\"\u001b[39m: index, \u001b[38;5;124m\"\u001b[39m\u001b[38;5;124mcolumns\u001b[39m\u001b[38;5;124m\"\u001b[39m: columns}, dtype\u001b[38;5;241m=\u001b[39mdtype, copy\u001b[38;5;241m=\u001b[39mcopy\n\u001b[0;32m    660\u001b[0m     )\n\u001b[0;32m    662\u001b[0m \u001b[38;5;28;01melif\u001b[39;00m \u001b[38;5;28misinstance\u001b[39m(data, \u001b[38;5;28mdict\u001b[39m):\n\u001b[0;32m    663\u001b[0m     \u001b[38;5;66;03m# GH#38939 de facto copy defaults to False only in non-dict cases\u001b[39;00m\n\u001b[1;32m--> 664\u001b[0m     mgr \u001b[38;5;241m=\u001b[39m dict_to_mgr(data, index, columns, dtype\u001b[38;5;241m=\u001b[39mdtype, copy\u001b[38;5;241m=\u001b[39mcopy, typ\u001b[38;5;241m=\u001b[39mmanager)\n\u001b[0;32m    665\u001b[0m \u001b[38;5;28;01melif\u001b[39;00m \u001b[38;5;28misinstance\u001b[39m(data, ma\u001b[38;5;241m.\u001b[39mMaskedArray):\n\u001b[0;32m    666\u001b[0m     \u001b[38;5;28;01mimport\u001b[39;00m \u001b[38;5;21;01mnumpy\u001b[39;00m\u001b[38;5;21;01m.\u001b[39;00m\u001b[38;5;21;01mma\u001b[39;00m\u001b[38;5;21;01m.\u001b[39;00m\u001b[38;5;21;01mmrecords\u001b[39;00m \u001b[38;5;28;01mas\u001b[39;00m \u001b[38;5;21;01mmrecords\u001b[39;00m\n",
      "File \u001b[1;32m~\\anaconda3\\Lib\\site-packages\\pandas\\core\\internals\\construction.py:493\u001b[0m, in \u001b[0;36mdict_to_mgr\u001b[1;34m(data, index, columns, dtype, typ, copy)\u001b[0m\n\u001b[0;32m    489\u001b[0m     \u001b[38;5;28;01melse\u001b[39;00m:\n\u001b[0;32m    490\u001b[0m         \u001b[38;5;66;03m# dtype check to exclude e.g. range objects, scalars\u001b[39;00m\n\u001b[0;32m    491\u001b[0m         arrays \u001b[38;5;241m=\u001b[39m [x\u001b[38;5;241m.\u001b[39mcopy() \u001b[38;5;28;01mif\u001b[39;00m \u001b[38;5;28mhasattr\u001b[39m(x, \u001b[38;5;124m\"\u001b[39m\u001b[38;5;124mdtype\u001b[39m\u001b[38;5;124m\"\u001b[39m) \u001b[38;5;28;01melse\u001b[39;00m x \u001b[38;5;28;01mfor\u001b[39;00m x \u001b[38;5;129;01min\u001b[39;00m arrays]\n\u001b[1;32m--> 493\u001b[0m \u001b[38;5;28;01mreturn\u001b[39;00m arrays_to_mgr(arrays, columns, index, dtype\u001b[38;5;241m=\u001b[39mdtype, typ\u001b[38;5;241m=\u001b[39mtyp, consolidate\u001b[38;5;241m=\u001b[39mcopy)\n",
      "File \u001b[1;32m~\\anaconda3\\Lib\\site-packages\\pandas\\core\\internals\\construction.py:118\u001b[0m, in \u001b[0;36marrays_to_mgr\u001b[1;34m(arrays, columns, index, dtype, verify_integrity, typ, consolidate)\u001b[0m\n\u001b[0;32m    115\u001b[0m \u001b[38;5;28;01mif\u001b[39;00m verify_integrity:\n\u001b[0;32m    116\u001b[0m     \u001b[38;5;66;03m# figure out the index, if necessary\u001b[39;00m\n\u001b[0;32m    117\u001b[0m     \u001b[38;5;28;01mif\u001b[39;00m index \u001b[38;5;129;01mis\u001b[39;00m \u001b[38;5;28;01mNone\u001b[39;00m:\n\u001b[1;32m--> 118\u001b[0m         index \u001b[38;5;241m=\u001b[39m _extract_index(arrays)\n\u001b[0;32m    119\u001b[0m     \u001b[38;5;28;01melse\u001b[39;00m:\n\u001b[0;32m    120\u001b[0m         index \u001b[38;5;241m=\u001b[39m ensure_index(index)\n",
      "File \u001b[1;32m~\\anaconda3\\Lib\\site-packages\\pandas\\core\\internals\\construction.py:666\u001b[0m, in \u001b[0;36m_extract_index\u001b[1;34m(data)\u001b[0m\n\u001b[0;32m    664\u001b[0m lengths \u001b[38;5;241m=\u001b[39m \u001b[38;5;28mlist\u001b[39m(\u001b[38;5;28mset\u001b[39m(raw_lengths))\n\u001b[0;32m    665\u001b[0m \u001b[38;5;28;01mif\u001b[39;00m \u001b[38;5;28mlen\u001b[39m(lengths) \u001b[38;5;241m>\u001b[39m \u001b[38;5;241m1\u001b[39m:\n\u001b[1;32m--> 666\u001b[0m     \u001b[38;5;28;01mraise\u001b[39;00m \u001b[38;5;167;01mValueError\u001b[39;00m(\u001b[38;5;124m\"\u001b[39m\u001b[38;5;124mAll arrays must be of the same length\u001b[39m\u001b[38;5;124m\"\u001b[39m)\n\u001b[0;32m    668\u001b[0m \u001b[38;5;28;01mif\u001b[39;00m have_dicts:\n\u001b[0;32m    669\u001b[0m     \u001b[38;5;28;01mraise\u001b[39;00m \u001b[38;5;167;01mValueError\u001b[39;00m(\n\u001b[0;32m    670\u001b[0m         \u001b[38;5;124m\"\u001b[39m\u001b[38;5;124mMixing dicts with non-Series may lead to ambiguous ordering.\u001b[39m\u001b[38;5;124m\"\u001b[39m\n\u001b[0;32m    671\u001b[0m     )\n",
      "\u001b[1;31mValueError\u001b[0m: All arrays must be of the same length"
     ]
    }
   ],
   "source": [
    "df=pd.DataFrame({'Series':series,'Place': place,'Date':date,'Time':time})\n"
   ]
  },
  {
   "cell_type": "code",
   "execution_count": null,
   "id": "b8021b72",
   "metadata": {},
   "outputs": [],
   "source": []
  },
  {
   "cell_type": "code",
   "execution_count": null,
   "id": "921bc202",
   "metadata": {},
   "outputs": [],
   "source": [
    "Q3)"
   ]
  },
  {
   "cell_type": "code",
   "execution_count": 25,
   "id": "9a0fbc37",
   "metadata": {},
   "outputs": [],
   "source": [
    "driver=webdriver.Chrome()\n",
    "driver.get('http://statisticstimes.com/')"
   ]
  },
  {
   "cell_type": "code",
   "execution_count": null,
   "id": "8cb59520",
   "metadata": {},
   "outputs": [],
   "source": []
  },
  {
   "cell_type": "code",
   "execution_count": null,
   "id": "868a8117",
   "metadata": {},
   "outputs": [],
   "source": []
  },
  {
   "cell_type": "code",
   "execution_count": 27,
   "id": "a32a94b7",
   "metadata": {},
   "outputs": [],
   "source": [
    " #Creating lists\n",
    "\n",
    "rank = []\n",
    "state = []\n",
    "GSDP1819 = []\n",
    "GSDP1920 = []\n",
    "share1819 = []\n",
    "GDP = []"
   ]
  },
  {
   "cell_type": "code",
   "execution_count": 28,
   "id": "55f80a62",
   "metadata": {},
   "outputs": [
    {
     "data": {
      "text/html": [
       "<div>\n",
       "<style scoped>\n",
       "    .dataframe tbody tr th:only-of-type {\n",
       "        vertical-align: middle;\n",
       "    }\n",
       "\n",
       "    .dataframe tbody tr th {\n",
       "        vertical-align: top;\n",
       "    }\n",
       "\n",
       "    .dataframe thead th {\n",
       "        text-align: right;\n",
       "    }\n",
       "</style>\n",
       "<table border=\"1\" class=\"dataframe\">\n",
       "  <thead>\n",
       "    <tr style=\"text-align: right;\">\n",
       "      <th></th>\n",
       "      <th>Rank</th>\n",
       "      <th>State</th>\n",
       "      <th>GSDP (19-20)</th>\n",
       "      <th>GSDP (18-19)</th>\n",
       "      <th>Share</th>\n",
       "      <th>GDP ($billion)</th>\n",
       "    </tr>\n",
       "  </thead>\n",
       "  <tbody>\n",
       "  </tbody>\n",
       "</table>\n",
       "</div>"
      ],
      "text/plain": [
       "Empty DataFrame\n",
       "Columns: [Rank, State, GSDP (19-20), GSDP (18-19), Share, GDP ($billion)]\n",
       "Index: []"
      ]
     },
     "execution_count": 28,
     "metadata": {},
     "output_type": "execute_result"
    }
   ],
   "source": [
    "df = pd.DataFrame({'Rank': rank, 'State': state, 'GSDP (19-20)': GSDP1819, 'GSDP (18-19)': GSDP1920, 'Share': share1819, 'GDP ($billion)': GDP})\n",
    "df"
   ]
  },
  {
   "cell_type": "code",
   "execution_count": null,
   "id": "b7e364ff",
   "metadata": {},
   "outputs": [],
   "source": []
  },
  {
   "cell_type": "code",
   "execution_count": null,
   "id": "88784311",
   "metadata": {},
   "outputs": [],
   "source": [
    "Q4)"
   ]
  },
  {
   "cell_type": "code",
   "execution_count": 29,
   "id": "b9e05b17",
   "metadata": {},
   "outputs": [],
   "source": [
    "driver=webdriver.Chrome()\n",
    "driver.get('https://www.github.com/')"
   ]
  },
  {
   "cell_type": "code",
   "execution_count": null,
   "id": "df75b372",
   "metadata": {},
   "outputs": [],
   "source": []
  },
  {
   "cell_type": "code",
   "execution_count": 30,
   "id": "e0e17fc6",
   "metadata": {},
   "outputs": [],
   "source": [
    "# Create lists\n",
    "\n",
    "repo_title = []\n",
    "repo_desc = []\n",
    "cont_count = []\n",
    "language = []"
   ]
  },
  {
   "cell_type": "code",
   "execution_count": 31,
   "id": "719cd8ba",
   "metadata": {},
   "outputs": [
    {
     "data": {
      "text/html": [
       "<div>\n",
       "<style scoped>\n",
       "    .dataframe tbody tr th:only-of-type {\n",
       "        vertical-align: middle;\n",
       "    }\n",
       "\n",
       "    .dataframe tbody tr th {\n",
       "        vertical-align: top;\n",
       "    }\n",
       "\n",
       "    .dataframe thead th {\n",
       "        text-align: right;\n",
       "    }\n",
       "</style>\n",
       "<table border=\"1\" class=\"dataframe\">\n",
       "  <thead>\n",
       "    <tr style=\"text-align: right;\">\n",
       "      <th></th>\n",
       "      <th>Repository Title</th>\n",
       "      <th>Repository Description</th>\n",
       "      <th>Contributors Count</th>\n",
       "      <th>Language Used</th>\n",
       "    </tr>\n",
       "  </thead>\n",
       "  <tbody>\n",
       "  </tbody>\n",
       "</table>\n",
       "</div>"
      ],
      "text/plain": [
       "Empty DataFrame\n",
       "Columns: [Repository Title, Repository Description, Contributors Count, Language Used]\n",
       "Index: []"
      ]
     },
     "execution_count": 31,
     "metadata": {},
     "output_type": "execute_result"
    }
   ],
   "source": [
    "df = pd.DataFrame({'Repository Title': repo_title, 'Repository Description': repo_desc, 'Contributors Count': cont_count, 'Language Used': language})\n",
    "df"
   ]
  },
  {
   "cell_type": "code",
   "execution_count": null,
   "id": "1fb7e722",
   "metadata": {},
   "outputs": [],
   "source": []
  },
  {
   "cell_type": "code",
   "execution_count": null,
   "id": "9dd1487d",
   "metadata": {},
   "outputs": [],
   "source": [
    "Q5)"
   ]
  },
  {
   "cell_type": "code",
   "execution_count": 32,
   "id": "877285bd",
   "metadata": {},
   "outputs": [],
   "source": [
    "driver=webdriver.Chrome()\n",
    "driver.get('https://www.billboard.com/')"
   ]
  },
  {
   "cell_type": "code",
   "execution_count": 38,
   "id": "1f73ae92",
   "metadata": {},
   "outputs": [],
   "source": [
    "charts=driver.find_element(By.XPATH, \"/html/body/div[3]/header/div/div[2]/div/div/div[2]/div[2]/div/div/nav/ul/li[1]/a\")\n",
    "charts.click()"
   ]
  },
  {
   "cell_type": "code",
   "execution_count": 40,
   "id": "b41d9aff",
   "metadata": {},
   "outputs": [],
   "source": [
    "top_songs=driver.find_element(By.XPATH, \"/html/body/div[3]/main/div[2]/div[1]/div[1]/div/div/div[1]/div[1]/div[2]/span/a\")\n",
    "top_songs.click()"
   ]
  },
  {
   "cell_type": "code",
   "execution_count": 39,
   "id": "136294a6",
   "metadata": {},
   "outputs": [],
   "source": [
    "# Create lists\n",
    "\n",
    "song = []\n",
    "artist = []\n",
    "last_week = []\n",
    "peak = []\n",
    "weeks_on_board = []"
   ]
  },
  {
   "cell_type": "code",
   "execution_count": 44,
   "id": "16532db6",
   "metadata": {},
   "outputs": [],
   "source": [
    "topSongs_details = driver.find_elements(By.XPATH, \"//div[@class='o-chart-results-list-row-container']\")"
   ]
  },
  {
   "cell_type": "code",
   "execution_count": 45,
   "id": "088438dd",
   "metadata": {},
   "outputs": [
    {
     "name": "stdout",
     "output_type": "stream",
     "text": [
      "topSongs_details:  99\n"
     ]
    }
   ],
   "source": [
    "print(\"topSongs_details: \", len(topSongs_details))"
   ]
  },
  {
   "cell_type": "code",
   "execution_count": 46,
   "id": "971a9fde",
   "metadata": {},
   "outputs": [
    {
     "data": {
      "text/html": [
       "<div>\n",
       "<style scoped>\n",
       "    .dataframe tbody tr th:only-of-type {\n",
       "        vertical-align: middle;\n",
       "    }\n",
       "\n",
       "    .dataframe tbody tr th {\n",
       "        vertical-align: top;\n",
       "    }\n",
       "\n",
       "    .dataframe thead th {\n",
       "        text-align: right;\n",
       "    }\n",
       "</style>\n",
       "<table border=\"1\" class=\"dataframe\">\n",
       "  <thead>\n",
       "    <tr style=\"text-align: right;\">\n",
       "      <th></th>\n",
       "      <th>Song Name</th>\n",
       "      <th>Artist Name</th>\n",
       "      <th>Last Week Rank</th>\n",
       "      <th>Peak Rank</th>\n",
       "      <th>Weeks On Board</th>\n",
       "    </tr>\n",
       "  </thead>\n",
       "  <tbody>\n",
       "  </tbody>\n",
       "</table>\n",
       "</div>"
      ],
      "text/plain": [
       "Empty DataFrame\n",
       "Columns: [Song Name, Artist Name, Last Week Rank, Peak Rank, Weeks On Board]\n",
       "Index: []"
      ]
     },
     "execution_count": 46,
     "metadata": {},
     "output_type": "execute_result"
    }
   ],
   "source": [
    "df = pd.DataFrame({'Song Name': song, 'Artist Name': artist, 'Last Week Rank': last_week, 'Peak Rank': peak, 'Weeks On Board': weeks_on_board})\n",
    "df"
   ]
  },
  {
   "cell_type": "code",
   "execution_count": null,
   "id": "c59d1368",
   "metadata": {},
   "outputs": [],
   "source": []
  },
  {
   "cell_type": "code",
   "execution_count": null,
   "id": "0a57520f",
   "metadata": {},
   "outputs": [],
   "source": []
  },
  {
   "cell_type": "code",
   "execution_count": null,
   "id": "ca036e75",
   "metadata": {},
   "outputs": [],
   "source": [
    "Q6)"
   ]
  },
  {
   "cell_type": "code",
   "execution_count": 47,
   "id": "63dded2e",
   "metadata": {},
   "outputs": [],
   "source": [
    "driver=webdriver.Chrome()\n",
    "driver.get('https://www.theguardian.com/news/datablog/2012/aug/09/best-selling-books-all-time-fifty-shades-grey-compare/')"
   ]
  },
  {
   "cell_type": "code",
   "execution_count": 49,
   "id": "2f5cf1ed",
   "metadata": {},
   "outputs": [],
   "source": [
    "novels_table = driver.find_element(By.XPATH, \"//table[@class='in-article sortable']\")"
   ]
  },
  {
   "cell_type": "code",
   "execution_count": null,
   "id": "8c34d013",
   "metadata": {},
   "outputs": [],
   "source": []
  },
  {
   "cell_type": "code",
   "execution_count": null,
   "id": "b4453968",
   "metadata": {},
   "outputs": [],
   "source": []
  },
  {
   "cell_type": "code",
   "execution_count": null,
   "id": "54cd7407",
   "metadata": {},
   "outputs": [],
   "source": [
    "Q7)"
   ]
  },
  {
   "cell_type": "code",
   "execution_count": 50,
   "id": "f5ff6a42",
   "metadata": {},
   "outputs": [],
   "source": [
    "driver=webdriver.Chrome()\n",
    "driver.get('https://www.imdb.com/list/ls095964455/')"
   ]
  },
  {
   "cell_type": "code",
   "execution_count": 51,
   "id": "c196c017",
   "metadata": {},
   "outputs": [],
   "source": [
    "tvShows = driver.find_elements(By.XPATH, \"//div[@class='lister-item mode-detail']\")"
   ]
  },
  {
   "cell_type": "code",
   "execution_count": 53,
   "id": "01ffcf2b",
   "metadata": {},
   "outputs": [],
   "source": [
    "# Create lists\n",
    "\n",
    "name = []\n",
    "years = []\n",
    "genre = []\n",
    "run_time = []\n",
    "rating = []\n",
    "votes = []"
   ]
  },
  {
   "cell_type": "code",
   "execution_count": 60,
   "id": "d559cf34",
   "metadata": {},
   "outputs": [
    {
     "data": {
      "text/html": [
       "<div>\n",
       "<style scoped>\n",
       "    .dataframe tbody tr th:only-of-type {\n",
       "        vertical-align: middle;\n",
       "    }\n",
       "\n",
       "    .dataframe tbody tr th {\n",
       "        vertical-align: top;\n",
       "    }\n",
       "\n",
       "    .dataframe thead th {\n",
       "        text-align: right;\n",
       "    }\n",
       "</style>\n",
       "<table border=\"1\" class=\"dataframe\">\n",
       "  <thead>\n",
       "    <tr style=\"text-align: right;\">\n",
       "      <th></th>\n",
       "      <th>Name</th>\n",
       "      <th>Year Span</th>\n",
       "      <th>Genre</th>\n",
       "      <th>Run Time</th>\n",
       "      <th>Rating</th>\n",
       "      <th>Votes</th>\n",
       "    </tr>\n",
       "  </thead>\n",
       "  <tbody>\n",
       "  </tbody>\n",
       "</table>\n",
       "</div>"
      ],
      "text/plain": [
       "Empty DataFrame\n",
       "Columns: [Name, Year Span, Genre, Run Time, Rating, Votes]\n",
       "Index: []"
      ]
     },
     "execution_count": 60,
     "metadata": {},
     "output_type": "execute_result"
    }
   ],
   "source": [
    "df = pd.DataFrame({'Name': name, 'Year Span': years, 'Genre': genre, 'Run Time': run_time, 'Rating': rating, 'Votes': votes})\n",
    "df"
   ]
  },
  {
   "cell_type": "code",
   "execution_count": null,
   "id": "51ce87f6",
   "metadata": {},
   "outputs": [],
   "source": []
  },
  {
   "cell_type": "code",
   "execution_count": null,
   "id": "20f1d6e7",
   "metadata": {},
   "outputs": [],
   "source": []
  },
  {
   "cell_type": "code",
   "execution_count": null,
   "id": "0354d6e5",
   "metadata": {},
   "outputs": [],
   "source": [
    "Q8)"
   ]
  },
  {
   "cell_type": "code",
   "execution_count": 52,
   "id": "bc08b695",
   "metadata": {},
   "outputs": [],
   "source": [
    "driver=webdriver.Chrome()\n",
    "driver.get('https://archive.ics.uci.edu/')"
   ]
  },
  {
   "cell_type": "code",
   "execution_count": null,
   "id": "2adf2a81",
   "metadata": {},
   "outputs": [],
   "source": []
  },
  {
   "cell_type": "code",
   "execution_count": null,
   "id": "4e1d250d",
   "metadata": {},
   "outputs": [],
   "source": []
  },
  {
   "cell_type": "code",
   "execution_count": null,
   "id": "35b1edbd",
   "metadata": {},
   "outputs": [],
   "source": []
  }
 ],
 "metadata": {
  "kernelspec": {
   "display_name": "Python 3 (ipykernel)",
   "language": "python",
   "name": "python3"
  },
  "language_info": {
   "codemirror_mode": {
    "name": "ipython",
    "version": 3
   },
   "file_extension": ".py",
   "mimetype": "text/x-python",
   "name": "python",
   "nbconvert_exporter": "python",
   "pygments_lexer": "ipython3",
   "version": "3.11.4"
  }
 },
 "nbformat": 4,
 "nbformat_minor": 5
}
