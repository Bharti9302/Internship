{
 "cells": [
  {
   "cell_type": "code",
   "execution_count": null,
   "id": "e7bf6b92",
   "metadata": {},
   "outputs": [],
   "source": []
  },
  {
   "cell_type": "code",
   "execution_count": 10,
   "id": "1f56cbca",
   "metadata": {},
   "outputs": [],
   "source": [
    "from selenium import webdriver\n",
    "from selenium.webdriver.common.by import By\n",
    "from selenium.webdriver.common.keys import Keys\n",
    "import pandas as pd"
   ]
  },
  {
   "cell_type": "code",
   "execution_count": null,
   "id": "8b7a93e2",
   "metadata": {},
   "outputs": [],
   "source": []
  },
  {
   "cell_type": "code",
   "execution_count": null,
   "id": "ec6ec9cd",
   "metadata": {},
   "outputs": [],
   "source": []
  },
  {
   "cell_type": "code",
   "execution_count": null,
   "id": "7a94047c",
   "metadata": {},
   "outputs": [],
   "source": [
    "Q1)"
   ]
  },
  {
   "cell_type": "code",
   "execution_count": null,
   "id": "ec42cba0",
   "metadata": {},
   "outputs": [],
   "source": [
    "driver=webdriver.Chrome()\n",
    "driver.get('https://www.naukri.com/')"
   ]
  },
  {
   "cell_type": "code",
   "execution_count": null,
   "id": "af290323",
   "metadata": {},
   "outputs": [],
   "source": [
    "# entering designation and location as required in the question- \n",
    "\n",
    "designation=driver.find_element(By.CLASS_NAME,\"suggestor-input\")\n",
    "designation.send_keys('Data Scientist')"
   ]
  },
  {
   "cell_type": "code",
   "execution_count": null,
   "id": "e225ab68",
   "metadata": {},
   "outputs": [],
   "source": [
    "location=driver.find_element(By.XPATH,\"/html/body/div[1]/div[6]/div/div/div[5]/div/div/div/div[1]/div/input\")\n",
    "location.send_keys('Delhi')"
   ]
  },
  {
   "cell_type": "code",
   "execution_count": null,
   "id": "7aaabf5f",
   "metadata": {},
   "outputs": [],
   "source": [
    "search=driver.find_element(By.CLASS_NAME,\"qsbSubmit\")\n",
    "search.click()"
   ]
  },
  {
   "cell_type": "code",
   "execution_count": null,
   "id": "09833624",
   "metadata": {},
   "outputs": [],
   "source": [
    "job_title=[]\n",
    "job_location=[]\n",
    "company_name=[]\n",
    "experience_required=[]"
   ]
  },
  {
   "cell_type": "code",
   "execution_count": null,
   "id": "c94e9042",
   "metadata": {},
   "outputs": [],
   "source": [
    "# scraping jon title form the given page\n",
    "title_tags=driver.find_elements(By.XPATH,'//div[@class=\"cust-job-tuple layout-wrapper lay-2 sjw__tuple \"]/div/a')\n",
    "for i in title_tags:\n",
    "    title=i.text\n",
    "    job_title.append(title)\n",
    "    \n",
    "# scraping job location from the given page\n",
    "location_tags=driver.find_elements(By.XPATH,'//span[@class=\"locWdth\"]')\n",
    "for i in location_tags:\n",
    "    location=i.text\n",
    "    job_location.append(location)\n",
    "    \n",
    "# scraping Company name from the given page\n",
    "company_tags=driver.find_elements(By.XPATH,'//div[@class=\" row2\"]/span/a[1] ')\n",
    "for i in company_name:\n",
    "    company=i.text\n",
    "    company_name.append(company)\n",
    "    \n",
    "# scraping job experience from the given page\n",
    "experience_tags=driver.find_elements(By.XPATH,'//span[@class=\"expwdth\"]')\n",
    "for i in experience_required:\n",
    "    exp=i.text\n",
    "    expereince_required.append(exp)"
   ]
  },
  {
   "cell_type": "code",
   "execution_count": null,
   "id": "46d83ed2",
   "metadata": {},
   "outputs": [],
   "source": []
  },
  {
   "cell_type": "code",
   "execution_count": null,
   "id": "e6f19663",
   "metadata": {},
   "outputs": [],
   "source": [
    "Q2)"
   ]
  },
  {
   "cell_type": "code",
   "execution_count": 11,
   "id": "b3162cde",
   "metadata": {},
   "outputs": [],
   "source": [
    "driver=webdriver.Chrome()\n",
    "driver.get('https://www.shine.com/')"
   ]
  },
  {
   "cell_type": "code",
   "execution_count": 12,
   "id": "f7abfd3e",
   "metadata": {},
   "outputs": [],
   "source": [
    "designation=driver.find_element(By.CLASS_NAME,\"input\")\n",
    "designation.send_keys('Data Analyst')"
   ]
  },
  {
   "cell_type": "code",
   "execution_count": null,
   "id": "958c0aa0",
   "metadata": {},
   "outputs": [],
   "source": [
    "search=driver.find_element(By.CLASS_NAME,\"iconH-zoom-white\")\n",
    "search.click()"
   ]
  },
  {
   "cell_type": "code",
   "execution_count": null,
   "id": "c7f34422",
   "metadata": {},
   "outputs": [],
   "source": []
  },
  {
   "cell_type": "code",
   "execution_count": 21,
   "id": "774c2818",
   "metadata": {},
   "outputs": [],
   "source": [
    "skills=driver.find_element(By.ID,\"id_q\")\n",
    "skills.send_keys(\"Data Analyst\")"
   ]
  },
  {
   "cell_type": "code",
   "execution_count": 19,
   "id": "38c2a7c6",
   "metadata": {},
   "outputs": [],
   "source": [
    "location=driver.find_element(By.ID,\"id_loc\")\n",
    "location.send_keys('Bangalore')"
   ]
  },
  {
   "cell_type": "code",
   "execution_count": 23,
   "id": "b7c99f30",
   "metadata": {},
   "outputs": [],
   "source": [
    "experience=driver.find_element(By.ID,\"id_exp\")\n",
    "experience.click()"
   ]
  },
  {
   "cell_type": "code",
   "execution_count": 27,
   "id": "efbd6bc7",
   "metadata": {},
   "outputs": [],
   "source": [
    "searchjobs=driver.find_element(By.XPATH,\"/html/body/div/div[4]/div/div[2]/div[2]/div/form/div/div[2]/div/button\")\n",
    "searchjobs.click()"
   ]
  },
  {
   "cell_type": "code",
   "execution_count": 29,
   "id": "904454ef",
   "metadata": {},
   "outputs": [],
   "source": [
    "job_title=[]\n",
    "job_location=[]\n",
    "company_name=[]\n",
    "experience_required=[]"
   ]
  },
  {
   "cell_type": "code",
   "execution_count": 30,
   "id": "97a0dcd4",
   "metadata": {},
   "outputs": [
    {
     "ename": "TypeError",
     "evalue": "'WebElement' object is not iterable",
     "output_type": "error",
     "traceback": [
      "\u001b[1;31m---------------------------------------------------------------------------\u001b[0m",
      "\u001b[1;31mTypeError\u001b[0m                                 Traceback (most recent call last)",
      "Cell \u001b[1;32mIn[30], line 3\u001b[0m\n\u001b[0;32m      1\u001b[0m \u001b[38;5;66;03m# scraping jon title form the given page\u001b[39;00m\n\u001b[0;32m      2\u001b[0m title_tags\u001b[38;5;241m=\u001b[39mdriver\u001b[38;5;241m.\u001b[39mfind_element(By\u001b[38;5;241m.\u001b[39mXPATH,\u001b[38;5;124m'\u001b[39m\u001b[38;5;124m/html/body/div[1]/div[2]/div[4]/div/div[2]/div[1]/div/div/div[1]/div[1]/div[1]/strong\u001b[39m\u001b[38;5;124m'\u001b[39m)\n\u001b[1;32m----> 3\u001b[0m \u001b[38;5;28;01mfor\u001b[39;00m i \u001b[38;5;129;01min\u001b[39;00m title_tags:\n\u001b[0;32m      4\u001b[0m     title\u001b[38;5;241m=\u001b[39mi\u001b[38;5;241m.\u001b[39mtext\n\u001b[0;32m      5\u001b[0m     job_title\u001b[38;5;241m.\u001b[39mappend(title)\n",
      "\u001b[1;31mTypeError\u001b[0m: 'WebElement' object is not iterable"
     ]
    }
   ],
   "source": [
    "# scraping jon title form the given page\n",
    "title_tags=driver.find_element(By.XPATH,'/html/body/div[1]/div[2]/div[4]/div/div[2]/div[1]/div/div/div[1]/div[1]/div[1]/strong')\n",
    "for i in title_tags:\n",
    "    title=i.text\n",
    "    job_title.append(title)\n",
    "\n",
    "\n",
    "# scraping job location from the given page\n",
    "location_tags=driver.find_element(By.CLASS_NAME,'jobCard_jobCard_lists_item__YxRkV jobCard_locationIcon__zrWt2')\n",
    "for i in location_tags:\n",
    "    location=i.text\n",
    "    job_location.append(location)\n",
    "    \n",
    "# scraping Company name from the given page\n",
    "company_tags=driver.find_element(By.CLASS_NAME,'jobCard_jobCard_cName__mYnow')\n",
    "for i in company_name:\n",
    "    company=i.text\n",
    "    company_name.append(company)\n",
    "    \n",
    "# scraping job experience from the given page\n",
    "experience_tags=driver.find_element(By.CLASS_NAME,'jobCard_jobCard_lists_item__YxRkV jobCard_jobIcon__3FB1t')\n",
    "for i in experience_required:\n",
    "    exp=i.text\n",
    "    expereince_required.append(exp)"
   ]
  },
  {
   "cell_type": "code",
   "execution_count": null,
   "id": "cccd2c53",
   "metadata": {},
   "outputs": [],
   "source": []
  },
  {
   "cell_type": "code",
   "execution_count": null,
   "id": "aab69c4a",
   "metadata": {},
   "outputs": [],
   "source": []
  },
  {
   "cell_type": "code",
   "execution_count": null,
   "id": "1adad509",
   "metadata": {},
   "outputs": [],
   "source": [
    "Q3)"
   ]
  },
  {
   "cell_type": "code",
   "execution_count": 2,
   "id": "2d8cc6a5",
   "metadata": {},
   "outputs": [],
   "source": [
    "# Setting up the Chrome WebDriver\n",
    "driver = webdriver.Chrome()\n",
    "\n",
    "# Step 1: Open the Naukri.com website\n",
    "driver.get(\"https://www.flipkart.com/apple-iphone-11-black-64-gb/product-reviews/itm4e5041ba101fd?pid=MOBFWQ6BXGJCEYNY&lid=LSTMOBFWQ6BXGJCEYNYZXSHRJ&marketplace=FLIPKART\")"
   ]
  },
  {
   "cell_type": "code",
   "execution_count": 3,
   "id": "ec2103c5",
   "metadata": {},
   "outputs": [],
   "source": [
    "ratings=driver.find_element(By.CLASS_NAME,\"Rza2QY\")\n",
    "ratings.click()"
   ]
  },
  {
   "cell_type": "code",
   "execution_count": 4,
   "id": "0c99fc77",
   "metadata": {},
   "outputs": [],
   "source": [
    "ReviewSummary=driver.find_element(By.CLASS_NAME,\"z9E0IG\")\n",
    "ReviewSummary.click()"
   ]
  },
  {
   "cell_type": "code",
   "execution_count": 6,
   "id": "cff1831a",
   "metadata": {},
   "outputs": [],
   "source": [
    "FullSummary=driver.find_element(By.XPATH,\"/html/body/div/div/div[3]/div/div[1]/div[2]/div[3]/div/div/div/div[2]/div/div/div\")\n",
    "FullSummary.click()"
   ]
  },
  {
   "cell_type": "code",
   "execution_count": null,
   "id": "43dbfb90",
   "metadata": {},
   "outputs": [],
   "source": []
  },
  {
   "cell_type": "code",
   "execution_count": null,
   "id": "385841f8",
   "metadata": {},
   "outputs": [],
   "source": [
    "# Setting up the Chrome WebDriver\n",
    "driver = webdriver.Chrome()\n",
    "\n",
    "# Step 1: Open the Naukri.com website\n",
    "driver.get(\"https://www.flipkart.com/apple-iphone-11-black-64-gb/product-reviews/itm4e5041ba101fd?pid=MOBFWQ6BXGJCEYNY&lid=LSTMOBFWQ6BXGJCEYNYZXSHRJ&marketplace=FLIPKART\")\n",
    "\n",
    "ratings=driver.find_element(By.CLASS_NAME,\"Rza2QY\")\n",
    "ratings.click()\n",
    "\n",
    "ReviewSummary=driver.find_element(By.CLASS_NAME,\"z9E0IG\")\n",
    "ReviewSummary.click()\n",
    "\n",
    "FullSummary=driver.find_element(By.XPATH,\"/html/body/div/div/div[3]/div/div[1]/div[2]/div[3]/div/div/div/div[2]/div/div/div\")\n",
    "FullSummary.click()"
   ]
  },
  {
   "cell_type": "code",
   "execution_count": null,
   "id": "bfac04d3",
   "metadata": {},
   "outputs": [],
   "source": []
  },
  {
   "cell_type": "code",
   "execution_count": null,
   "id": "97da6041",
   "metadata": {},
   "outputs": [],
   "source": [
    "Q4)"
   ]
  },
  {
   "cell_type": "code",
   "execution_count": 34,
   "id": "b4aec48f",
   "metadata": {},
   "outputs": [],
   "source": [
    "# Setting up the Chrome WebDriver\n",
    "driver = webdriver.Chrome()\n",
    "\n",
    "# Step 1: Open the Naukri.com website\n",
    "driver.get(\"https://www.flipkart.com/\")"
   ]
  },
  {
   "cell_type": "code",
   "execution_count": 37,
   "id": "bb8523d6",
   "metadata": {},
   "outputs": [],
   "source": [
    "product=driver.find_element(By.CLASS_NAME,\"Pke_EE\")\n",
    "product.send_keys(\"sneakers\")"
   ]
  },
  {
   "cell_type": "code",
   "execution_count": 39,
   "id": "4bc97754",
   "metadata": {},
   "outputs": [],
   "source": [
    "search=driver.find_element(By.CLASS_NAME,\"_2iLD__\")\n",
    "search.click()"
   ]
  },
  {
   "cell_type": "code",
   "execution_count": 43,
   "id": "dca7a28d",
   "metadata": {},
   "outputs": [
    {
     "ename": "AttributeError",
     "evalue": "'WebElement' object has no attribute 'append'",
     "output_type": "error",
     "traceback": [
      "\u001b[1;31m---------------------------------------------------------------------------\u001b[0m",
      "\u001b[1;31mAttributeError\u001b[0m                            Traceback (most recent call last)",
      "Cell \u001b[1;32mIn[43], line 2\u001b[0m\n\u001b[0;32m      1\u001b[0m Brand\u001b[38;5;241m=\u001b[39mdriver\u001b[38;5;241m.\u001b[39mfind_element(By\u001b[38;5;241m.\u001b[39mCLASS_NAME,\u001b[38;5;124m\"\u001b[39m\u001b[38;5;124msyl9yP\u001b[39m\u001b[38;5;124m\"\u001b[39m)\n\u001b[1;32m----> 2\u001b[0m Brand\u001b[38;5;241m.\u001b[39mappend()\n",
      "\u001b[1;31mAttributeError\u001b[0m: 'WebElement' object has no attribute 'append'"
     ]
    }
   ],
   "source": [
    "Brand=driver.find_element(By.CLASS_NAME,\"syl9yP\")\n",
    "Brand.click()"
   ]
  },
  {
   "cell_type": "code",
   "execution_count": 44,
   "id": "fa836cb6",
   "metadata": {},
   "outputs": [
    {
     "ename": "NoSuchElementException",
     "evalue": "Message: no such element: Unable to locate element: {\"method\":\"css selector\",\"selector\":\".WKTcLC BwBZTg\"}\n  (Session info: chrome=125.0.6422.60); For documentation on this error, please visit: https://www.selenium.dev/documentation/webdriver/troubleshooting/errors#no-such-element-exception\nStacktrace:\n\tGetHandleVerifier [0x00007FF6381822C2+60002]\n\t(No symbol) [0x00007FF6380FCA59]\n\t(No symbol) [0x00007FF637FB7EDA]\n\t(No symbol) [0x00007FF6380076E6]\n\t(No symbol) [0x00007FF6380077AC]\n\t(No symbol) [0x00007FF63804E9D7]\n\t(No symbol) [0x00007FF63802C2CF]\n\t(No symbol) [0x00007FF63804BCC7]\n\t(No symbol) [0x00007FF63802C033]\n\t(No symbol) [0x00007FF637FF9657]\n\t(No symbol) [0x00007FF637FFA251]\n\tGetHandleVerifier [0x00007FF638493E2D+3278285]\n\tGetHandleVerifier [0x00007FF6384E0190+3590448]\n\tGetHandleVerifier [0x00007FF6384D61D0+3549552]\n\tGetHandleVerifier [0x00007FF638231DE6+779654]\n\t(No symbol) [0x00007FF638107ACF]\n\t(No symbol) [0x00007FF638102EE4]\n\t(No symbol) [0x00007FF638103072]\n\t(No symbol) [0x00007FF6380F2C4F]\n\tBaseThreadInitThunk [0x00007FF83E2F7344+20]\n\tRtlUserThreadStart [0x00007FF83ED426B1+33]\n",
     "output_type": "error",
     "traceback": [
      "\u001b[1;31m---------------------------------------------------------------------------\u001b[0m",
      "\u001b[1;31mNoSuchElementException\u001b[0m                    Traceback (most recent call last)",
      "Cell \u001b[1;32mIn[44], line 1\u001b[0m\n\u001b[1;32m----> 1\u001b[0m product_description\u001b[38;5;241m=\u001b[39mdriver\u001b[38;5;241m.\u001b[39mfind_element(By\u001b[38;5;241m.\u001b[39mCLASS_NAME,\u001b[38;5;124m\"\u001b[39m\u001b[38;5;124mWKTcLC BwBZTg\u001b[39m\u001b[38;5;124m\"\u001b[39m)\n\u001b[0;32m      2\u001b[0m product_description\u001b[38;5;241m.\u001b[39mclick()\n",
      "File \u001b[1;32m~\\anaconda3\\Lib\\site-packages\\selenium\\webdriver\\remote\\webdriver.py:741\u001b[0m, in \u001b[0;36mWebDriver.find_element\u001b[1;34m(self, by, value)\u001b[0m\n\u001b[0;32m    738\u001b[0m     by \u001b[38;5;241m=\u001b[39m By\u001b[38;5;241m.\u001b[39mCSS_SELECTOR\n\u001b[0;32m    739\u001b[0m     value \u001b[38;5;241m=\u001b[39m \u001b[38;5;124mf\u001b[39m\u001b[38;5;124m'\u001b[39m\u001b[38;5;124m[name=\u001b[39m\u001b[38;5;124m\"\u001b[39m\u001b[38;5;132;01m{\u001b[39;00mvalue\u001b[38;5;132;01m}\u001b[39;00m\u001b[38;5;124m\"\u001b[39m\u001b[38;5;124m]\u001b[39m\u001b[38;5;124m'\u001b[39m\n\u001b[1;32m--> 741\u001b[0m \u001b[38;5;28;01mreturn\u001b[39;00m \u001b[38;5;28mself\u001b[39m\u001b[38;5;241m.\u001b[39mexecute(Command\u001b[38;5;241m.\u001b[39mFIND_ELEMENT, {\u001b[38;5;124m\"\u001b[39m\u001b[38;5;124musing\u001b[39m\u001b[38;5;124m\"\u001b[39m: by, \u001b[38;5;124m\"\u001b[39m\u001b[38;5;124mvalue\u001b[39m\u001b[38;5;124m\"\u001b[39m: value})[\u001b[38;5;124m\"\u001b[39m\u001b[38;5;124mvalue\u001b[39m\u001b[38;5;124m\"\u001b[39m]\n",
      "File \u001b[1;32m~\\anaconda3\\Lib\\site-packages\\selenium\\webdriver\\remote\\webdriver.py:347\u001b[0m, in \u001b[0;36mWebDriver.execute\u001b[1;34m(self, driver_command, params)\u001b[0m\n\u001b[0;32m    345\u001b[0m response \u001b[38;5;241m=\u001b[39m \u001b[38;5;28mself\u001b[39m\u001b[38;5;241m.\u001b[39mcommand_executor\u001b[38;5;241m.\u001b[39mexecute(driver_command, params)\n\u001b[0;32m    346\u001b[0m \u001b[38;5;28;01mif\u001b[39;00m response:\n\u001b[1;32m--> 347\u001b[0m     \u001b[38;5;28mself\u001b[39m\u001b[38;5;241m.\u001b[39merror_handler\u001b[38;5;241m.\u001b[39mcheck_response(response)\n\u001b[0;32m    348\u001b[0m     response[\u001b[38;5;124m\"\u001b[39m\u001b[38;5;124mvalue\u001b[39m\u001b[38;5;124m\"\u001b[39m] \u001b[38;5;241m=\u001b[39m \u001b[38;5;28mself\u001b[39m\u001b[38;5;241m.\u001b[39m_unwrap_value(response\u001b[38;5;241m.\u001b[39mget(\u001b[38;5;124m\"\u001b[39m\u001b[38;5;124mvalue\u001b[39m\u001b[38;5;124m\"\u001b[39m, \u001b[38;5;28;01mNone\u001b[39;00m))\n\u001b[0;32m    349\u001b[0m     \u001b[38;5;28;01mreturn\u001b[39;00m response\n",
      "File \u001b[1;32m~\\anaconda3\\Lib\\site-packages\\selenium\\webdriver\\remote\\errorhandler.py:229\u001b[0m, in \u001b[0;36mErrorHandler.check_response\u001b[1;34m(self, response)\u001b[0m\n\u001b[0;32m    227\u001b[0m         alert_text \u001b[38;5;241m=\u001b[39m value[\u001b[38;5;124m\"\u001b[39m\u001b[38;5;124malert\u001b[39m\u001b[38;5;124m\"\u001b[39m]\u001b[38;5;241m.\u001b[39mget(\u001b[38;5;124m\"\u001b[39m\u001b[38;5;124mtext\u001b[39m\u001b[38;5;124m\"\u001b[39m)\n\u001b[0;32m    228\u001b[0m     \u001b[38;5;28;01mraise\u001b[39;00m exception_class(message, screen, stacktrace, alert_text)  \u001b[38;5;66;03m# type: ignore[call-arg]  # mypy is not smart enough here\u001b[39;00m\n\u001b[1;32m--> 229\u001b[0m \u001b[38;5;28;01mraise\u001b[39;00m exception_class(message, screen, stacktrace)\n",
      "\u001b[1;31mNoSuchElementException\u001b[0m: Message: no such element: Unable to locate element: {\"method\":\"css selector\",\"selector\":\".WKTcLC BwBZTg\"}\n  (Session info: chrome=125.0.6422.60); For documentation on this error, please visit: https://www.selenium.dev/documentation/webdriver/troubleshooting/errors#no-such-element-exception\nStacktrace:\n\tGetHandleVerifier [0x00007FF6381822C2+60002]\n\t(No symbol) [0x00007FF6380FCA59]\n\t(No symbol) [0x00007FF637FB7EDA]\n\t(No symbol) [0x00007FF6380076E6]\n\t(No symbol) [0x00007FF6380077AC]\n\t(No symbol) [0x00007FF63804E9D7]\n\t(No symbol) [0x00007FF63802C2CF]\n\t(No symbol) [0x00007FF63804BCC7]\n\t(No symbol) [0x00007FF63802C033]\n\t(No symbol) [0x00007FF637FF9657]\n\t(No symbol) [0x00007FF637FFA251]\n\tGetHandleVerifier [0x00007FF638493E2D+3278285]\n\tGetHandleVerifier [0x00007FF6384E0190+3590448]\n\tGetHandleVerifier [0x00007FF6384D61D0+3549552]\n\tGetHandleVerifier [0x00007FF638231DE6+779654]\n\t(No symbol) [0x00007FF638107ACF]\n\t(No symbol) [0x00007FF638102EE4]\n\t(No symbol) [0x00007FF638103072]\n\t(No symbol) [0x00007FF6380F2C4F]\n\tBaseThreadInitThunk [0x00007FF83E2F7344+20]\n\tRtlUserThreadStart [0x00007FF83ED426B1+33]\n"
     ]
    }
   ],
   "source": [
    "product_description=driver.find_element(By.CLASS_NAME,\"WKTcLC BwBZTg\")\n",
    "product_description.click()"
   ]
  },
  {
   "cell_type": "code",
   "execution_count": null,
   "id": "62b75903",
   "metadata": {},
   "outputs": [],
   "source": [
    "price=driver.find_element(By.CLASS_NAME,\"Nx9bqj\")\n",
    "PRICE.click()"
   ]
  },
  {
   "cell_type": "code",
   "execution_count": null,
   "id": "58dd9e53",
   "metadata": {},
   "outputs": [],
   "source": []
  },
  {
   "cell_type": "code",
   "execution_count": null,
   "id": "c3ca6eed",
   "metadata": {},
   "outputs": [],
   "source": [
    "Q5)"
   ]
  },
  {
   "cell_type": "code",
   "execution_count": 45,
   "id": "333e2379",
   "metadata": {},
   "outputs": [],
   "source": [
    "# Setting up the Chrome WebDriver\n",
    "driver = webdriver.Chrome()\n",
    "\n",
    "# Step 1: Open the Naukri.com website\n",
    "driver.get(\"http://www.amazon.in/\")"
   ]
  },
  {
   "cell_type": "code",
   "execution_count": 46,
   "id": "c3819031",
   "metadata": {},
   "outputs": [],
   "source": [
    "product=driver.find_element(By.ID,\"twotabsearchtextbox\")\n",
    "product.send_keys(\"Laptop\")"
   ]
  },
  {
   "cell_type": "code",
   "execution_count": 47,
   "id": "59171ea8",
   "metadata": {},
   "outputs": [],
   "source": [
    "search=driver.find_element(By.ID,\"nav-search-submit-button\")\n",
    "search.click()"
   ]
  },
  {
   "cell_type": "code",
   "execution_count": 58,
   "id": "a9f3b4e6",
   "metadata": {},
   "outputs": [],
   "source": [
    "cputype=driver.find_element(By.XPATH,\"/html/body/div[1]/div[1]/div[1]/div[2]/div/div[3]/span/div[1]/div/div/div[6]/ul[20]/span/span[10]/li/span/a/div/label/i\")\n",
    "cputype.click()"
   ]
  },
  {
   "cell_type": "code",
   "execution_count": 65,
   "id": "69f5c418",
   "metadata": {},
   "outputs": [
    {
     "data": {
      "text/plain": [
       "'Dell Inspiron 7420 2in1 Laptop, Intel Core i7-1255U Processor/16GB/512GB/14.0\" (35.56cm) FHD+ WVA Touch 250 nits, Active Pen/Win 11 + MSO\\'21, 15 Month McAfee/Backlit KB + FPR/Platinum Silver'"
      ]
     },
     "execution_count": 65,
     "metadata": {},
     "output_type": "execute_result"
    }
   ],
   "source": [
    "title=driver.find_element(By.XPATH,\"/html/body/div[1]/div[1]/div[1]/div[1]/div/span[1]/div[1]/div[4]/div/div/span/div/div/div/div[2]/div/div/div[1]/h2\")\n",
    "title.click()\n",
    "title.text"
   ]
  },
  {
   "cell_type": "code",
   "execution_count": null,
   "id": "c3acb1e8",
   "metadata": {},
   "outputs": [],
   "source": []
  },
  {
   "cell_type": "code",
   "execution_count": null,
   "id": "0bef46ab",
   "metadata": {},
   "outputs": [],
   "source": []
  },
  {
   "cell_type": "code",
   "execution_count": null,
   "id": "6707ab1b",
   "metadata": {},
   "outputs": [],
   "source": [
    "Q6)"
   ]
  },
  {
   "cell_type": "code",
   "execution_count": 2,
   "id": "57aa7c6b",
   "metadata": {},
   "outputs": [],
   "source": [
    "driver = webdriver.Chrome()\n",
    "driver.get(\"https://www.azquotes.com/\")"
   ]
  },
  {
   "cell_type": "code",
   "execution_count": 3,
   "id": "9525fc52",
   "metadata": {},
   "outputs": [],
   "source": [
    "top_quotes=driver.find_element(By.XPATH,\"/html/body/div[1]/div[1]/div[1]/div/div[3]/ul/li[5]/a\")\n",
    "top_quotes.click()"
   ]
  },
  {
   "cell_type": "code",
   "execution_count": 15,
   "id": "3d0cc37f",
   "metadata": {},
   "outputs": [],
   "source": [
    "quote=driver.find_element(By.CLASS_NAME,\"title\")\n",
    "quote.click()"
   ]
  },
  {
   "cell_type": "code",
   "execution_count": 16,
   "id": "4ca848e3",
   "metadata": {},
   "outputs": [],
   "source": [
    "author=driver.find_element(By.XPATH,\"/html/body/div[1]/div[2]/div/div/div/div[1]/div/ul/li[1]/div/div[1]/a\")\n",
    "author.click()"
   ]
  },
  {
   "cell_type": "code",
   "execution_count": 5,
   "id": "455a737a",
   "metadata": {},
   "outputs": [],
   "source": [
    "Quote_type=driver.find_element(By.XPATH,\"/html/body/div[1]/div[2]/div/div/div/div[1]/div/ul/li[1]/div/div[2]/div[1]\")\n",
    "Quote_type.click()"
   ]
  },
  {
   "cell_type": "code",
   "execution_count": null,
   "id": "3e051f00",
   "metadata": {},
   "outputs": [],
   "source": []
  },
  {
   "cell_type": "code",
   "execution_count": 8,
   "id": "56f29d35",
   "metadata": {},
   "outputs": [],
   "source": []
  },
  {
   "cell_type": "code",
   "execution_count": null,
   "id": "e26fc00e",
   "metadata": {},
   "outputs": [],
   "source": [
    "Q7)"
   ]
  },
  {
   "cell_type": "code",
   "execution_count": 9,
   "id": "daa0283a",
   "metadata": {},
   "outputs": [
    {
     "ename": "NoSuchElementException",
     "evalue": "Message: no such element: Unable to locate element: {\"method\":\"xpath\",\"selector\":\"/html/body/div[1]/main/div[1]/div[1]/article/div[3]/div[6]/div/table/tbody/tr[2]/td[2]/div/strong/a\"}\n  (Session info: chrome=125.0.6422.60); For documentation on this error, please visit: https://www.selenium.dev/documentation/webdriver/troubleshooting/errors#no-such-element-exception\nStacktrace:\n\tGetHandleVerifier [0x00007FF6381822C2+60002]\n\t(No symbol) [0x00007FF6380FCA59]\n\t(No symbol) [0x00007FF637FB7EDA]\n\t(No symbol) [0x00007FF6380076E6]\n\t(No symbol) [0x00007FF6380077AC]\n\t(No symbol) [0x00007FF63804E9D7]\n\t(No symbol) [0x00007FF63802C2CF]\n\t(No symbol) [0x00007FF63804BCC7]\n\t(No symbol) [0x00007FF63802C033]\n\t(No symbol) [0x00007FF637FF9657]\n\t(No symbol) [0x00007FF637FFA251]\n\tGetHandleVerifier [0x00007FF638493E2D+3278285]\n\tGetHandleVerifier [0x00007FF6384E0190+3590448]\n\tGetHandleVerifier [0x00007FF6384D61D0+3549552]\n\tGetHandleVerifier [0x00007FF638231DE6+779654]\n\t(No symbol) [0x00007FF638107ACF]\n\t(No symbol) [0x00007FF638102EE4]\n\t(No symbol) [0x00007FF638103072]\n\t(No symbol) [0x00007FF6380F2C4F]\n\tBaseThreadInitThunk [0x00007FF83E2F7344+20]\n\tRtlUserThreadStart [0x00007FF83ED426B1+33]\n",
     "output_type": "error",
     "traceback": [
      "\u001b[1;31m---------------------------------------------------------------------------\u001b[0m",
      "\u001b[1;31mNoSuchElementException\u001b[0m                    Traceback (most recent call last)",
      "Cell \u001b[1;32mIn[9], line 1\u001b[0m\n\u001b[1;32m----> 1\u001b[0m prime_minister\u001b[38;5;241m=\u001b[39mdriver\u001b[38;5;241m.\u001b[39mfind_element(By\u001b[38;5;241m.\u001b[39mXPATH,\u001b[38;5;124m\"\u001b[39m\u001b[38;5;124m/html/body/div[1]/main/div[1]/div[1]/article/div[3]/div[6]/div/table/tbody/tr[2]/td[2]/div/strong/a\u001b[39m\u001b[38;5;124m\"\u001b[39m)\n\u001b[0;32m      2\u001b[0m prime_minister\u001b[38;5;241m.\u001b[39mclick()\n",
      "File \u001b[1;32m~\\anaconda3\\Lib\\site-packages\\selenium\\webdriver\\remote\\webdriver.py:741\u001b[0m, in \u001b[0;36mWebDriver.find_element\u001b[1;34m(self, by, value)\u001b[0m\n\u001b[0;32m    738\u001b[0m     by \u001b[38;5;241m=\u001b[39m By\u001b[38;5;241m.\u001b[39mCSS_SELECTOR\n\u001b[0;32m    739\u001b[0m     value \u001b[38;5;241m=\u001b[39m \u001b[38;5;124mf\u001b[39m\u001b[38;5;124m'\u001b[39m\u001b[38;5;124m[name=\u001b[39m\u001b[38;5;124m\"\u001b[39m\u001b[38;5;132;01m{\u001b[39;00mvalue\u001b[38;5;132;01m}\u001b[39;00m\u001b[38;5;124m\"\u001b[39m\u001b[38;5;124m]\u001b[39m\u001b[38;5;124m'\u001b[39m\n\u001b[1;32m--> 741\u001b[0m \u001b[38;5;28;01mreturn\u001b[39;00m \u001b[38;5;28mself\u001b[39m\u001b[38;5;241m.\u001b[39mexecute(Command\u001b[38;5;241m.\u001b[39mFIND_ELEMENT, {\u001b[38;5;124m\"\u001b[39m\u001b[38;5;124musing\u001b[39m\u001b[38;5;124m\"\u001b[39m: by, \u001b[38;5;124m\"\u001b[39m\u001b[38;5;124mvalue\u001b[39m\u001b[38;5;124m\"\u001b[39m: value})[\u001b[38;5;124m\"\u001b[39m\u001b[38;5;124mvalue\u001b[39m\u001b[38;5;124m\"\u001b[39m]\n",
      "File \u001b[1;32m~\\anaconda3\\Lib\\site-packages\\selenium\\webdriver\\remote\\webdriver.py:347\u001b[0m, in \u001b[0;36mWebDriver.execute\u001b[1;34m(self, driver_command, params)\u001b[0m\n\u001b[0;32m    345\u001b[0m response \u001b[38;5;241m=\u001b[39m \u001b[38;5;28mself\u001b[39m\u001b[38;5;241m.\u001b[39mcommand_executor\u001b[38;5;241m.\u001b[39mexecute(driver_command, params)\n\u001b[0;32m    346\u001b[0m \u001b[38;5;28;01mif\u001b[39;00m response:\n\u001b[1;32m--> 347\u001b[0m     \u001b[38;5;28mself\u001b[39m\u001b[38;5;241m.\u001b[39merror_handler\u001b[38;5;241m.\u001b[39mcheck_response(response)\n\u001b[0;32m    348\u001b[0m     response[\u001b[38;5;124m\"\u001b[39m\u001b[38;5;124mvalue\u001b[39m\u001b[38;5;124m\"\u001b[39m] \u001b[38;5;241m=\u001b[39m \u001b[38;5;28mself\u001b[39m\u001b[38;5;241m.\u001b[39m_unwrap_value(response\u001b[38;5;241m.\u001b[39mget(\u001b[38;5;124m\"\u001b[39m\u001b[38;5;124mvalue\u001b[39m\u001b[38;5;124m\"\u001b[39m, \u001b[38;5;28;01mNone\u001b[39;00m))\n\u001b[0;32m    349\u001b[0m     \u001b[38;5;28;01mreturn\u001b[39;00m response\n",
      "File \u001b[1;32m~\\anaconda3\\Lib\\site-packages\\selenium\\webdriver\\remote\\errorhandler.py:229\u001b[0m, in \u001b[0;36mErrorHandler.check_response\u001b[1;34m(self, response)\u001b[0m\n\u001b[0;32m    227\u001b[0m         alert_text \u001b[38;5;241m=\u001b[39m value[\u001b[38;5;124m\"\u001b[39m\u001b[38;5;124malert\u001b[39m\u001b[38;5;124m\"\u001b[39m]\u001b[38;5;241m.\u001b[39mget(\u001b[38;5;124m\"\u001b[39m\u001b[38;5;124mtext\u001b[39m\u001b[38;5;124m\"\u001b[39m)\n\u001b[0;32m    228\u001b[0m     \u001b[38;5;28;01mraise\u001b[39;00m exception_class(message, screen, stacktrace, alert_text)  \u001b[38;5;66;03m# type: ignore[call-arg]  # mypy is not smart enough here\u001b[39;00m\n\u001b[1;32m--> 229\u001b[0m \u001b[38;5;28;01mraise\u001b[39;00m exception_class(message, screen, stacktrace)\n",
      "\u001b[1;31mNoSuchElementException\u001b[0m: Message: no such element: Unable to locate element: {\"method\":\"xpath\",\"selector\":\"/html/body/div[1]/main/div[1]/div[1]/article/div[3]/div[6]/div/table/tbody/tr[2]/td[2]/div/strong/a\"}\n  (Session info: chrome=125.0.6422.60); For documentation on this error, please visit: https://www.selenium.dev/documentation/webdriver/troubleshooting/errors#no-such-element-exception\nStacktrace:\n\tGetHandleVerifier [0x00007FF6381822C2+60002]\n\t(No symbol) [0x00007FF6380FCA59]\n\t(No symbol) [0x00007FF637FB7EDA]\n\t(No symbol) [0x00007FF6380076E6]\n\t(No symbol) [0x00007FF6380077AC]\n\t(No symbol) [0x00007FF63804E9D7]\n\t(No symbol) [0x00007FF63802C2CF]\n\t(No symbol) [0x00007FF63804BCC7]\n\t(No symbol) [0x00007FF63802C033]\n\t(No symbol) [0x00007FF637FF9657]\n\t(No symbol) [0x00007FF637FFA251]\n\tGetHandleVerifier [0x00007FF638493E2D+3278285]\n\tGetHandleVerifier [0x00007FF6384E0190+3590448]\n\tGetHandleVerifier [0x00007FF6384D61D0+3549552]\n\tGetHandleVerifier [0x00007FF638231DE6+779654]\n\t(No symbol) [0x00007FF638107ACF]\n\t(No symbol) [0x00007FF638102EE4]\n\t(No symbol) [0x00007FF638103072]\n\t(No symbol) [0x00007FF6380F2C4F]\n\tBaseThreadInitThunk [0x00007FF83E2F7344+20]\n\tRtlUserThreadStart [0x00007FF83ED426B1+33]\n"
     ]
    }
   ],
   "source": [
    "prime_minister=driver.find_element(By.XPATH,\"/html/body/div[1]/main/div[1]/div[1]/article/div[3]/div[6]/div/table/tbody/tr[2]/td[2]/div/strong/a\")\n",
    "prime_minister.click()"
   ]
  },
  {
   "cell_type": "code",
   "execution_count": null,
   "id": "d51f4082",
   "metadata": {},
   "outputs": [],
   "source": []
  },
  {
   "cell_type": "code",
   "execution_count": null,
   "id": "0c84ebb2",
   "metadata": {},
   "outputs": [],
   "source": [
    "Q8)"
   ]
  },
  {
   "cell_type": "code",
   "execution_count": 66,
   "id": "f5102853",
   "metadata": {},
   "outputs": [],
   "source": [
    "driver = webdriver.Chrome()\n",
    "driver.get(\"https://www.motor1.com/\")"
   ]
  },
  {
   "cell_type": "code",
   "execution_count": 67,
   "id": "631c5d16",
   "metadata": {},
   "outputs": [],
   "source": [
    "cars=driver.find_element(By.ID,\"search_input\")\n",
    "cars.send_keys('50 most expensive cars')"
   ]
  },
  {
   "cell_type": "code",
   "execution_count": 78,
   "id": "c9824ec0",
   "metadata": {},
   "outputs": [],
   "source": [
    "search=driver.find_element(By.XPATH,\"/html/body/div[9]/div[2]/div/div/div[3]/div/div/div/form/button[1]\")\n",
    "search.click()"
   ]
  },
  {
   "cell_type": "code",
   "execution_count": 80,
   "id": "3e7db168",
   "metadata": {},
   "outputs": [],
   "source": [
    "search=driver.find_element(By.XPATH,\"/html/body/div[9]/div[9]/div/div[1]/div/div/div[1]/div/div[1]/h3/a\")\n",
    "search.click()"
   ]
  },
  {
   "cell_type": "code",
   "execution_count": 81,
   "id": "dc936423",
   "metadata": {},
   "outputs": [
    {
     "data": {
      "text/plain": [
       "'Aston Martin Valour'"
      ]
     },
     "execution_count": 81,
     "metadata": {},
     "output_type": "execute_result"
    }
   ],
   "source": [
    "car_name=driver.find_element(By.CLASS_NAME,\"subheader\")\n",
    "car_name.text"
   ]
  },
  {
   "cell_type": "code",
   "execution_count": null,
   "id": "05a16a74",
   "metadata": {},
   "outputs": [],
   "source": []
  },
  {
   "cell_type": "code",
   "execution_count": null,
   "id": "faa89ce4",
   "metadata": {},
   "outputs": [],
   "source": []
  },
  {
   "cell_type": "code",
   "execution_count": null,
   "id": "5a462359",
   "metadata": {},
   "outputs": [],
   "source": []
  }
 ],
 "metadata": {
  "kernelspec": {
   "display_name": "Python 3 (ipykernel)",
   "language": "python",
   "name": "python3"
  },
  "language_info": {
   "codemirror_mode": {
    "name": "ipython",
    "version": 3
   },
   "file_extension": ".py",
   "mimetype": "text/x-python",
   "name": "python",
   "nbconvert_exporter": "python",
   "pygments_lexer": "ipython3",
   "version": "3.11.4"
  }
 },
 "nbformat": 4,
 "nbformat_minor": 5
}
